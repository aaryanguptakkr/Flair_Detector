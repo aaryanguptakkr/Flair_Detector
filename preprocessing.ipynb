{
 "cells": [
  {
   "cell_type": "code",
   "execution_count": 3,
   "metadata": {},
   "outputs": [],
   "source": [
    "import pandas as pd\n",
    "import string\n",
    "import re\n",
    "import nltk\n",
    "from nltk.corpus import stopwords\n",
    "from nltk.tokenize import word_tokenize\n",
    "from nltk.stem import PorterStemmer\n",
    "from nltk.stem import WordNetLemmatizer "
   ]
  },
  {
   "cell_type": "code",
   "execution_count": 4,
   "metadata": {},
   "outputs": [],
   "source": [
    "def no_num(text):\n",
    "    text = re.sub('[0-9]+', '', text)\n",
    "    return text\n",
    "\n",
    "def no_punc(text):\n",
    "    #nopuncmsg = ''.join([c for c in text if c not in string.punctuation])\n",
    "    text = re.sub(r'[^\\w\\s]',' ',text)\n",
    "    text = re.sub(' +', ' ', text)\n",
    "    return text"
   ]
  },
  {
   "cell_type": "code",
   "execution_count": 5,
   "metadata": {},
   "outputs": [],
   "source": [
    "tokenized = []\n",
    "def tokenizer(text):\n",
    "    tokenized = word_tokenize(text)\n",
    "    return tokenized\n",
    "remov_stop_words = []\n",
    "def remov_stopwords(text):\n",
    "    remov_stop_words  =' '.join([c for c in text.split(' ') if c not in stopwords.words('english')])\n",
    "    return remov_stop_words\n",
    "def deEmojify(inputString):\n",
    "    return inputString.encode('ascii', 'ignore').decode('ascii')\n",
    "def func_lemmatizer(text):\n",
    "    lemmatized = []\n",
    "    lemmatizer = WordNetLemmatizer()\n",
    "    lemmatized = ' '.join( [ lemmatizer.lemmatize(word) for word in text] )\n",
    "    return lemmatized"
   ]
  },
  {
   "cell_type": "code",
   "execution_count": 6,
   "metadata": {},
   "outputs": [],
   "source": [
    "def preprocessor(text):\n",
    "    text = text.str.lower()\n",
    "    text = text.apply(deEmojify)\n",
    "    text = text.apply(no_num)\n",
    "    text = text.apply(no_punc)\n",
    "    text = text.apply(remov_stopwords)\n",
    "    text = text.apply(deEmojify)\n",
    "    text = text.apply(tokenizer)\n",
    "    text = text.apply(func_lemmatizer)\n",
    "    \n",
    "    return text"
   ]
  }
 ],
 "metadata": {
  "kernelspec": {
   "display_name": "Python 3",
   "language": "python",
   "name": "python3"
  },
  "language_info": {
   "codemirror_mode": {
    "name": "ipython",
    "version": 3
   },
   "file_extension": ".py",
   "mimetype": "text/x-python",
   "name": "python",
   "nbconvert_exporter": "python",
   "pygments_lexer": "ipython3",
   "version": "3.7.5"
  }
 },
 "nbformat": 4,
 "nbformat_minor": 4
}
