{
 "cells": [
  {
   "cell_type": "code",
   "execution_count": 2,
   "metadata": {},
   "outputs": [],
   "source": [
    "import praw\n",
    "import pandas as pd\n",
    "import string\n",
    "import re\n",
    "from preprocessing import preprocessor\n",
    "import pickle\n",
    "import numpy as np"
   ]
  },
  {
   "cell_type": "code",
   "execution_count": 3,
   "metadata": {},
   "outputs": [],
   "source": [
    "reddit = praw.Reddit(  client_id = 'j3S-mjVI054xXw',\n",
    "                        client_secret = 'cGW2OwC5mw23pFKTTDPIGyAbspI',\n",
    "                        username = 'praw_scraper',\n",
    "                        password = 'kurukshetra',\n",
    "                        user_agent = 'prawscraper1')"
   ]
  },
  {
   "cell_type": "markdown",
   "metadata": {},
   "source": [
    "##### The pretrained Counter Vectorizer Model , TFIDF Transformer , Multninomial Naive Bayes ,Random Forest Classifier , LInear SVM Models are imported here which were saved in pickle format during training."
   ]
  },
  {
   "cell_type": "code",
   "execution_count": 4,
   "metadata": {},
   "outputs": [],
   "source": [
    "# THE MODEL WHICH IS REQUIRED TO BE IMPORTED  (cv)\n",
    "Pkl_Filename1 = \"Pickle_CV_Model.pkl\"\n",
    "Pkl_Filename2 = \"Pickle_TF_Model.pkl\"\n",
    "Pkl_Filename3 = \"Pickle_NB_Model.pkl\"\n",
    "Pkl_Filename4 = \"Pickle_SVM_Model.pkl\"\n",
    "Pkl_Filename5 = \"Pickle_RFC_Model.pkl\"\n",
    "with open(Pkl_Filename1, 'rb') as file:  \n",
    "    pickled_CV_model = pickle.load(file)\n",
    "with open(Pkl_Filename2, 'rb') as file:  \n",
    "    pickled_TF_model = pickle.load(file)\n",
    "with open(Pkl_Filename3, 'rb') as file:  \n",
    "    pickled_NB_model = pickle.load(file)\n",
    "with open(Pkl_Filename4, 'rb') as file:  \n",
    "    pickled_SVM_model = pickle.load(file)\n",
    "with open(Pkl_Filename5, 'rb') as file:  \n",
    "    pickled_RFC_model = pickle.load(file)\n",
    "    \n",
    "\n",
    "def flair_predictor(input_url):\n",
    "    #COLLECTING DATA FROM THE REDDIT LINK\n",
    "    submission = reddit.submission(url = input_url)\n",
    "    input = []\n",
    "    input.append([submission.title , submission.link_flair_text])\n",
    "    df = pd.DataFrame(input , columns = ['title','flair'])\n",
    "    df['title'] = preprocessor(df['title'])\n",
    "    text = df['title']\n",
    "    \n",
    "    #LOADING THE PRETRAINED MODELS THROUGH PICKLE\n",
    "    input_tf = pickled_CV_model.transform(text)\n",
    "    input_tfidf = pickled_TF_model.transform(input_tf)\n",
    "    \n",
    "    \n",
    "    #RUNNING THE MODELS ON INPUT\n",
    "    output_SVM = pickled_SVM_model.predict(input_tfidf)\n",
    "    output_NB = pickled_NB_model.predict(input_tfidf)\n",
    "    output_RFC = pickled_RFC_model.predict(input_tf)\n",
    "    \n",
    "\n",
    "    #COMPARING THE PROBABILITIES OF THE RESULTS OF EACH MODEL\n",
    "    score_svm = np.max(pickled_SVM_model.decision_function(input_tfidf))\n",
    "    score_nb = np.max(pickled_NB_model.predict_proba(input_tfidf))\n",
    "    score_rfc = np.max(pickled_RFC_model.predict_proba(input_tf))\n",
    "    \n",
    "    \n",
    "    if score_nb > score_svm and score_nb > score_rfc:\n",
    "        print(\"predicted flair is \" , output_NB )\n",
    "        output = output_NB\n",
    "    elif score_svm > score_rfc :\n",
    "        print(\"predicted flair is \" , output_SVM )\n",
    "        output = output_SVM\n",
    "    else :\n",
    "        print(\"predicted flair is \" ,output_RFC )\n",
    "        output = output_RFC\n",
    "    \n",
    "    \n",
    "    return output"
   ]
  },
  {
   "cell_type": "markdown",
   "metadata": {},
   "source": [
    "#####  A HYBRID TECHNIQUE WAS USED TO DECIDE WHICH MODEL IS MORE CONFIDENT ABOUT THE RESULT AND THE OUTPUT WAS GIVEN"
   ]
  }
 ],
 "metadata": {
  "kernelspec": {
   "display_name": "Python 3",
   "language": "python",
   "name": "python3"
  },
  "language_info": {
   "codemirror_mode": {
    "name": "ipython",
    "version": 3
   },
   "file_extension": ".py",
   "mimetype": "text/x-python",
   "name": "python",
   "nbconvert_exporter": "python",
   "pygments_lexer": "ipython3",
   "version": "3.7.5"
  }
 },
 "nbformat": 4,
 "nbformat_minor": 4
}
