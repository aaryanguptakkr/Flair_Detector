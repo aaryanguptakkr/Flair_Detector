{
 "cells": [
  {
   "cell_type": "code",
   "execution_count": 1,
   "metadata": {},
   "outputs": [],
   "source": [
    "import numpy as np\n",
    "\n",
    "import requests \n",
    "import json \n",
    "import pandas as pd \n",
    "import string \n",
    "import re \n",
    "import matplotlib.pyplot as plt \n",
    "import sklearn \n",
    "from sklearn.metrics import confusion_matrix , accuracy_score , f1_score\n",
    "import pickle"
   ]
  },
  {
   "cell_type": "markdown",
   "metadata": {},
   "source": [
    "# REDDIT DATA COLLECTION"
   ]
  },
  {
   "cell_type": "markdown",
   "metadata": {},
   "source": [
    "#### I used PUSHSHIFT.IO API instead of PRAW as praw had certain limits on the number of data values. PRAW doesn't provide access to more than 1000 records"
   ]
  },
  {
   "cell_type": "code",
   "execution_count": 2,
   "metadata": {},
   "outputs": [],
   "source": [
    "def getPushshiftData(sub=None, before=None, after=None, ids=None, getSubmissions=True, getComments=False):\n",
    "    suffix=''\n",
    "    searchType = 'submission'\n",
    "    if getComments or not getSubmissions:\n",
    "        searchType='comment'\n",
    "    if (before is not None):\n",
    "        suffix += '&before='+str(before)\n",
    "    if (after is not None):\n",
    "        suffix += '&after='+str(after)\n",
    "    if (sub is not None):\n",
    "        suffix += '&subreddit='+sub\n",
    "    if (ids is not None):\n",
    "        suffix += '&ids='+','.join(ids)\n",
    "\n",
    "    url = 'https://api.pushshift.io/reddit/search/'+searchType+'?sort=desc&size=1500'+suffix\n",
    "    r = requests.get(url)\n",
    "    data = json.loads(r.content)\n",
    "    if len(data['data']) > 0:\n",
    "        prev_end_date = data['data'][-1]['created_utc']\n",
    "    else:\n",
    "        prev_end_date = None\n",
    "    return (data, prev_end_date)"
   ]
  },
  {
   "cell_type": "markdown",
   "metadata": {},
   "source": [
    "#### The time have been set to 120 days which results in collection of around 50000-60000 titles"
   ]
  },
  {
   "cell_type": "code",
   "execution_count": 3,
   "metadata": {},
   "outputs": [],
   "source": [
    "sub='India'\n",
    "(submissions_tmp, prev_end_date) = getPushshiftData(sub=sub, after='120d')\n",
    "submissions = submissions_tmp['data']\n",
    "while prev_end_date is not None:\n",
    "    try:\n",
    "        (submissions_tmp, prev_end_date) = getPushshiftData(sub=sub, before=prev_end_date-1, after='120d')\n",
    "        if prev_end_date is not None:\n",
    "            submissions.extend(submissions_tmp['data'])\n",
    "    except:\n",
    "        continue"
   ]
  },
  {
   "cell_type": "code",
   "execution_count": 4,
   "metadata": {},
   "outputs": [],
   "source": [
    "submission =[]\n",
    "for post in submissions:\n",
    "    submission.append(post)"
   ]
  },
  {
   "cell_type": "code",
   "execution_count": 5,
   "metadata": {},
   "outputs": [],
   "source": [
    "submission_df=pd.DataFrame(submission)"
   ]
  },
  {
   "cell_type": "code",
   "execution_count": 6,
   "metadata": {},
   "outputs": [],
   "source": [
    "df1 = pd.concat([submission_df['title'],submission_df['link_flair_text']], axis = 1)"
   ]
  },
  {
   "cell_type": "markdown",
   "metadata": {},
   "source": [
    "# Exploratory Data Analysis"
   ]
  },
  {
   "cell_type": "code",
   "execution_count": 7,
   "metadata": {},
   "outputs": [],
   "source": [
    "df1 = df1.dropna()"
   ]
  },
  {
   "cell_type": "code",
   "execution_count": 8,
   "metadata": {
    "scrolled": true
   },
   "outputs": [
    {
     "data": {
      "text/html": [
       "<div>\n",
       "<style scoped>\n",
       "    .dataframe tbody tr th:only-of-type {\n",
       "        vertical-align: middle;\n",
       "    }\n",
       "\n",
       "    .dataframe tbody tr th {\n",
       "        vertical-align: top;\n",
       "    }\n",
       "\n",
       "    .dataframe thead th {\n",
       "        text-align: right;\n",
       "    }\n",
       "</style>\n",
       "<table border=\"1\" class=\"dataframe\">\n",
       "  <thead>\n",
       "    <tr style=\"text-align: right;\">\n",
       "      <th></th>\n",
       "      <th>title</th>\n",
       "      <th>flair</th>\n",
       "    </tr>\n",
       "  </thead>\n",
       "  <tbody>\n",
       "    <tr>\n",
       "      <th>0</th>\n",
       "      <td>Salaries of Meghalaya ministers, bureaucrats deferred by 50% due Covid-19</td>\n",
       "      <td>Politics</td>\n",
       "    </tr>\n",
       "    <tr>\n",
       "      <th>2</th>\n",
       "      <td>Decoded: How gold may benefit from coronavirus crisis</td>\n",
       "      <td>Business/Finance</td>\n",
       "    </tr>\n",
       "    <tr>\n",
       "      <th>3</th>\n",
       "      <td>US panel flags India’s ‘sharp, alarming’ decline in religious freedom, suggests ‘targeted sancti...</td>\n",
       "      <td>Politics</td>\n",
       "    </tr>\n",
       "    <tr>\n",
       "      <th>4</th>\n",
       "      <td>Actor Irrfan Khan admitted to hospital as health deteriorates</td>\n",
       "      <td>Non-Political</td>\n",
       "    </tr>\n",
       "    <tr>\n",
       "      <th>5</th>\n",
       "      <td>Niti Aayog questions Australian institute’s terror ranking of India</td>\n",
       "      <td>Policy/Economy</td>\n",
       "    </tr>\n",
       "    <tr>\n",
       "      <th>...</th>\n",
       "      <td>...</td>\n",
       "      <td>...</td>\n",
       "    </tr>\n",
       "    <tr>\n",
       "      <th>58646</th>\n",
       "      <td>The whole truth</td>\n",
       "      <td>Politics</td>\n",
       "    </tr>\n",
       "    <tr>\n",
       "      <th>58648</th>\n",
       "      <td>#HinduRashtraRow | Fact-check for Sadhguru.</td>\n",
       "      <td>Politics</td>\n",
       "    </tr>\n",
       "    <tr>\n",
       "      <th>58649</th>\n",
       "      <td>Should you support CAA?</td>\n",
       "      <td>Politics</td>\n",
       "    </tr>\n",
       "    <tr>\n",
       "      <th>58650</th>\n",
       "      <td>S10+ compatibility</td>\n",
       "      <td>Science/Technology</td>\n",
       "    </tr>\n",
       "    <tr>\n",
       "      <th>58651</th>\n",
       "      <td>Do the citizens of India support chanting of \"La illaha illallah\" in rallies and march to protes...</td>\n",
       "      <td>Politics</td>\n",
       "    </tr>\n",
       "  </tbody>\n",
       "</table>\n",
       "<p>44991 rows × 2 columns</p>\n",
       "</div>"
      ],
      "text/plain": [
       "                                                                                                     title  \\\n",
       "0                                Salaries of Meghalaya ministers, bureaucrats deferred by 50% due Covid-19   \n",
       "2                                                    Decoded: How gold may benefit from coronavirus crisis   \n",
       "3      US panel flags India’s ‘sharp, alarming’ decline in religious freedom, suggests ‘targeted sancti...   \n",
       "4                                            Actor Irrfan Khan admitted to hospital as health deteriorates   \n",
       "5                                      Niti Aayog questions Australian institute’s terror ranking of India   \n",
       "...                                                                                                    ...   \n",
       "58646                                                                                      The whole truth   \n",
       "58648                                                          #HinduRashtraRow | Fact-check for Sadhguru.   \n",
       "58649                                                                              Should you support CAA?   \n",
       "58650                                                                                   S10+ compatibility   \n",
       "58651  Do the citizens of India support chanting of \"La illaha illallah\" in rallies and march to protes...   \n",
       "\n",
       "                    flair  \n",
       "0                Politics  \n",
       "2        Business/Finance  \n",
       "3                Politics  \n",
       "4           Non-Political  \n",
       "5          Policy/Economy  \n",
       "...                   ...  \n",
       "58646            Politics  \n",
       "58648            Politics  \n",
       "58649            Politics  \n",
       "58650  Science/Technology  \n",
       "58651            Politics  \n",
       "\n",
       "[44991 rows x 2 columns]"
      ]
     },
     "execution_count": 8,
     "metadata": {},
     "output_type": "execute_result"
    }
   ],
   "source": [
    "pd.set_option('display.max_colwidth', 100)\n",
    "df = df1.copy()\n",
    "df['flair'] = df['link_flair_text']\n",
    "df= df.drop(['link_flair_text'], axis = 1)\n",
    "df"
   ]
  },
  {
   "cell_type": "code",
   "execution_count": 9,
   "metadata": {},
   "outputs": [],
   "source": [
    "flair_set = set(df['flair'])"
   ]
  },
  {
   "cell_type": "code",
   "execution_count": 10,
   "metadata": {},
   "outputs": [
    {
     "data": {
      "text/html": [
       "        <script type=\"text/javascript\">\n",
       "        window.PlotlyConfig = {MathJaxConfig: 'local'};\n",
       "        if (window.MathJax) {MathJax.Hub.Config({SVG: {font: \"STIX-Web\"}});}\n",
       "        if (typeof require !== 'undefined') {\n",
       "        require.undef(\"plotly\");\n",
       "        requirejs.config({\n",
       "            paths: {\n",
       "                'plotly': ['https://cdn.plot.ly/plotly-latest.min']\n",
       "            }\n",
       "        });\n",
       "        require(['plotly'], function(Plotly) {\n",
       "            window._Plotly = Plotly;\n",
       "        });\n",
       "        }\n",
       "        </script>\n",
       "        "
      ]
     },
     "metadata": {},
     "output_type": "display_data"
    }
   ],
   "source": [
    "import cufflinks as cf\n",
    "cf.go_offline()\n",
    "cf.set_config_file(offline=False, world_readable=True)"
   ]
  },
  {
   "cell_type": "code",
   "execution_count": 11,
   "metadata": {},
   "outputs": [
    {
     "data": {
      "application/vnd.plotly.v1+json": {
       "config": {
        "linkText": "Export to plot.ly",
        "plotlyServerURL": "https://plot.ly",
        "showLink": true
       },
       "data": [
        {
         "marker": {
          "color": "rgba(255, 153, 51, 0.8)",
          "line": {
           "color": "rgba(255, 153, 51, 1.0)",
           "width": 1
          }
         },
         "name": "title",
         "orientation": "v",
         "text": "",
         "type": "bar",
         "x": [
          "Politics",
          "Non-Political",
          "Coronavirus",
          "AskIndia",
          "Policy/Economy",
          "Science/Technology",
          "Business/Finance",
          "CAA-NRC",
          "Photography",
          "Food",
          "Sports",
          "Scheduled",
          "All CAPS.",
          "Low-effort self-post.",
          "| Repost |",
          "| Not Original/Relevant Title |",
          "CAA-NRC-NPR",
          "Demonetization",
          "| Unverified Content / Disreputed Source |",
          "| Social Media Rules |",
          "| Low-effort Self Post |",
          "| Not specific to India |",
          "Low Quality/Non OC Meme",
          "Meta.",
          "| Not in English |",
          "Shitpost",
          "| Stickied Topic |",
          "| Self-promotion |",
          "| Image Rule Violation |",
          "Post link Directly",
          "Unverified",
          "| Custom (Informed OP) |",
          "Not Appropriate Subreddit",
          "| Personal/Unverified Social Media |",
          "Dead Link",
          "| [OLD] Content |",
          "AMA",
          "| Not in English | | Unverified Content / Disreputed Source |",
          "| Not Original/Relevant Title | | Social Media Rules |",
          "| Not specific to India | | Not Original/Relevant Title |",
          "| Witch-hunting/Targeting User |",
          "| Not in English | | Not Original/Relevant Title |",
          "| Self-promotion | | Social Media Rules |",
          "| Personal Info |",
          "Personal/Unverified Twitter.",
          "| Not in English | | Social Media Rules |",
          "| Not specific to India | | Social Media Rules |",
          "Announcement",
          "| Low-effort Self Post | Post link Directly",
          "| Self-promotion | Shitpost",
          "| Not specific to India | | Self-promotion |",
          "| Repost | Post link Directly",
          "| Self-promotion | | Unverified Content / Disreputed Source |",
          "Aug 2019 - Politics",
          "| Personal Info | | Self-promotion |",
          "| Unverified Content / Disreputed Source | Shitpost",
          "AMA Announcement",
          "| Not specific to India | | Stickied Topic |",
          "Foodpolitics",
          "Casual AMA",
          "| Not Original/Relevant Title | Post link Directly",
          "Megathread",
          "Translation provided in comments",
          "| Witch-hunting/Targeting User | Meta.",
          "| Image Rule Violation | | Low-effort Self Post |",
          "| Not Original/Relevant Title | | Custom (Informed OP) |",
          "| Not Original/Relevant Title | | Image Rule Violation |",
          "Verified",
          "| Not Original/Relevant Title | | Low-effort Self Post |",
          "| Not Original/Relevant Title | | Repost |",
          "Meta",
          "| Not Original/Relevant Title | | Stickied Topic |",
          "| Not in English | | Low-effort Self Post |",
          "| Not in English | | Social Media Rules | Post link Directly",
          "PARTAYYY AGAIN :D",
          "| Not specific to India | Low Quality/Non OC Meme",
          "| Low-effort Self Post | | Stickied Topic |",
          "| Not specific to India | | Low-effort Self Post | Shitpost"
         ],
         "y": [
          10734,
          9320,
          9091,
          6000,
          1688,
          1619,
          1526,
          1070,
          1022,
          546,
          478,
          350,
          305,
          230,
          128,
          106,
          104,
          98,
          89,
          78,
          70,
          67,
          52,
          27,
          24,
          19,
          18,
          14,
          12,
          10,
          7,
          7,
          5,
          5,
          4,
          4,
          4,
          4,
          3,
          3,
          3,
          3,
          3,
          2,
          2,
          2,
          2,
          2,
          2,
          1,
          1,
          1,
          1,
          1,
          1,
          1,
          1,
          1,
          1,
          1,
          1,
          1,
          1,
          1,
          1,
          1,
          1,
          1,
          1,
          1,
          1,
          1,
          1,
          1,
          1,
          1,
          1,
          1
         ]
        }
       ],
       "layout": {
        "legend": {
         "bgcolor": "#F5F6F9",
         "font": {
          "color": "#4D5663"
         }
        },
        "paper_bgcolor": "#F5F6F9",
        "plot_bgcolor": "#F5F6F9",
        "template": {
         "data": {
          "bar": [
           {
            "error_x": {
             "color": "#2a3f5f"
            },
            "error_y": {
             "color": "#2a3f5f"
            },
            "marker": {
             "line": {
              "color": "#E5ECF6",
              "width": 0.5
             }
            },
            "type": "bar"
           }
          ],
          "barpolar": [
           {
            "marker": {
             "line": {
              "color": "#E5ECF6",
              "width": 0.5
             }
            },
            "type": "barpolar"
           }
          ],
          "carpet": [
           {
            "aaxis": {
             "endlinecolor": "#2a3f5f",
             "gridcolor": "white",
             "linecolor": "white",
             "minorgridcolor": "white",
             "startlinecolor": "#2a3f5f"
            },
            "baxis": {
             "endlinecolor": "#2a3f5f",
             "gridcolor": "white",
             "linecolor": "white",
             "minorgridcolor": "white",
             "startlinecolor": "#2a3f5f"
            },
            "type": "carpet"
           }
          ],
          "choropleth": [
           {
            "colorbar": {
             "outlinewidth": 0,
             "ticks": ""
            },
            "type": "choropleth"
           }
          ],
          "contour": [
           {
            "colorbar": {
             "outlinewidth": 0,
             "ticks": ""
            },
            "colorscale": [
             [
              0,
              "#0d0887"
             ],
             [
              0.1111111111111111,
              "#46039f"
             ],
             [
              0.2222222222222222,
              "#7201a8"
             ],
             [
              0.3333333333333333,
              "#9c179e"
             ],
             [
              0.4444444444444444,
              "#bd3786"
             ],
             [
              0.5555555555555556,
              "#d8576b"
             ],
             [
              0.6666666666666666,
              "#ed7953"
             ],
             [
              0.7777777777777778,
              "#fb9f3a"
             ],
             [
              0.8888888888888888,
              "#fdca26"
             ],
             [
              1,
              "#f0f921"
             ]
            ],
            "type": "contour"
           }
          ],
          "contourcarpet": [
           {
            "colorbar": {
             "outlinewidth": 0,
             "ticks": ""
            },
            "type": "contourcarpet"
           }
          ],
          "heatmap": [
           {
            "colorbar": {
             "outlinewidth": 0,
             "ticks": ""
            },
            "colorscale": [
             [
              0,
              "#0d0887"
             ],
             [
              0.1111111111111111,
              "#46039f"
             ],
             [
              0.2222222222222222,
              "#7201a8"
             ],
             [
              0.3333333333333333,
              "#9c179e"
             ],
             [
              0.4444444444444444,
              "#bd3786"
             ],
             [
              0.5555555555555556,
              "#d8576b"
             ],
             [
              0.6666666666666666,
              "#ed7953"
             ],
             [
              0.7777777777777778,
              "#fb9f3a"
             ],
             [
              0.8888888888888888,
              "#fdca26"
             ],
             [
              1,
              "#f0f921"
             ]
            ],
            "type": "heatmap"
           }
          ],
          "heatmapgl": [
           {
            "colorbar": {
             "outlinewidth": 0,
             "ticks": ""
            },
            "colorscale": [
             [
              0,
              "#0d0887"
             ],
             [
              0.1111111111111111,
              "#46039f"
             ],
             [
              0.2222222222222222,
              "#7201a8"
             ],
             [
              0.3333333333333333,
              "#9c179e"
             ],
             [
              0.4444444444444444,
              "#bd3786"
             ],
             [
              0.5555555555555556,
              "#d8576b"
             ],
             [
              0.6666666666666666,
              "#ed7953"
             ],
             [
              0.7777777777777778,
              "#fb9f3a"
             ],
             [
              0.8888888888888888,
              "#fdca26"
             ],
             [
              1,
              "#f0f921"
             ]
            ],
            "type": "heatmapgl"
           }
          ],
          "histogram": [
           {
            "marker": {
             "colorbar": {
              "outlinewidth": 0,
              "ticks": ""
             }
            },
            "type": "histogram"
           }
          ],
          "histogram2d": [
           {
            "colorbar": {
             "outlinewidth": 0,
             "ticks": ""
            },
            "colorscale": [
             [
              0,
              "#0d0887"
             ],
             [
              0.1111111111111111,
              "#46039f"
             ],
             [
              0.2222222222222222,
              "#7201a8"
             ],
             [
              0.3333333333333333,
              "#9c179e"
             ],
             [
              0.4444444444444444,
              "#bd3786"
             ],
             [
              0.5555555555555556,
              "#d8576b"
             ],
             [
              0.6666666666666666,
              "#ed7953"
             ],
             [
              0.7777777777777778,
              "#fb9f3a"
             ],
             [
              0.8888888888888888,
              "#fdca26"
             ],
             [
              1,
              "#f0f921"
             ]
            ],
            "type": "histogram2d"
           }
          ],
          "histogram2dcontour": [
           {
            "colorbar": {
             "outlinewidth": 0,
             "ticks": ""
            },
            "colorscale": [
             [
              0,
              "#0d0887"
             ],
             [
              0.1111111111111111,
              "#46039f"
             ],
             [
              0.2222222222222222,
              "#7201a8"
             ],
             [
              0.3333333333333333,
              "#9c179e"
             ],
             [
              0.4444444444444444,
              "#bd3786"
             ],
             [
              0.5555555555555556,
              "#d8576b"
             ],
             [
              0.6666666666666666,
              "#ed7953"
             ],
             [
              0.7777777777777778,
              "#fb9f3a"
             ],
             [
              0.8888888888888888,
              "#fdca26"
             ],
             [
              1,
              "#f0f921"
             ]
            ],
            "type": "histogram2dcontour"
           }
          ],
          "mesh3d": [
           {
            "colorbar": {
             "outlinewidth": 0,
             "ticks": ""
            },
            "type": "mesh3d"
           }
          ],
          "parcoords": [
           {
            "line": {
             "colorbar": {
              "outlinewidth": 0,
              "ticks": ""
             }
            },
            "type": "parcoords"
           }
          ],
          "pie": [
           {
            "automargin": true,
            "type": "pie"
           }
          ],
          "scatter": [
           {
            "marker": {
             "colorbar": {
              "outlinewidth": 0,
              "ticks": ""
             }
            },
            "type": "scatter"
           }
          ],
          "scatter3d": [
           {
            "line": {
             "colorbar": {
              "outlinewidth": 0,
              "ticks": ""
             }
            },
            "marker": {
             "colorbar": {
              "outlinewidth": 0,
              "ticks": ""
             }
            },
            "type": "scatter3d"
           }
          ],
          "scattercarpet": [
           {
            "marker": {
             "colorbar": {
              "outlinewidth": 0,
              "ticks": ""
             }
            },
            "type": "scattercarpet"
           }
          ],
          "scattergeo": [
           {
            "marker": {
             "colorbar": {
              "outlinewidth": 0,
              "ticks": ""
             }
            },
            "type": "scattergeo"
           }
          ],
          "scattergl": [
           {
            "marker": {
             "colorbar": {
              "outlinewidth": 0,
              "ticks": ""
             }
            },
            "type": "scattergl"
           }
          ],
          "scattermapbox": [
           {
            "marker": {
             "colorbar": {
              "outlinewidth": 0,
              "ticks": ""
             }
            },
            "type": "scattermapbox"
           }
          ],
          "scatterpolar": [
           {
            "marker": {
             "colorbar": {
              "outlinewidth": 0,
              "ticks": ""
             }
            },
            "type": "scatterpolar"
           }
          ],
          "scatterpolargl": [
           {
            "marker": {
             "colorbar": {
              "outlinewidth": 0,
              "ticks": ""
             }
            },
            "type": "scatterpolargl"
           }
          ],
          "scatterternary": [
           {
            "marker": {
             "colorbar": {
              "outlinewidth": 0,
              "ticks": ""
             }
            },
            "type": "scatterternary"
           }
          ],
          "surface": [
           {
            "colorbar": {
             "outlinewidth": 0,
             "ticks": ""
            },
            "colorscale": [
             [
              0,
              "#0d0887"
             ],
             [
              0.1111111111111111,
              "#46039f"
             ],
             [
              0.2222222222222222,
              "#7201a8"
             ],
             [
              0.3333333333333333,
              "#9c179e"
             ],
             [
              0.4444444444444444,
              "#bd3786"
             ],
             [
              0.5555555555555556,
              "#d8576b"
             ],
             [
              0.6666666666666666,
              "#ed7953"
             ],
             [
              0.7777777777777778,
              "#fb9f3a"
             ],
             [
              0.8888888888888888,
              "#fdca26"
             ],
             [
              1,
              "#f0f921"
             ]
            ],
            "type": "surface"
           }
          ],
          "table": [
           {
            "cells": {
             "fill": {
              "color": "#EBF0F8"
             },
             "line": {
              "color": "white"
             }
            },
            "header": {
             "fill": {
              "color": "#C8D4E3"
             },
             "line": {
              "color": "white"
             }
            },
            "type": "table"
           }
          ]
         },
         "layout": {
          "annotationdefaults": {
           "arrowcolor": "#2a3f5f",
           "arrowhead": 0,
           "arrowwidth": 1
          },
          "coloraxis": {
           "colorbar": {
            "outlinewidth": 0,
            "ticks": ""
           }
          },
          "colorscale": {
           "diverging": [
            [
             0,
             "#8e0152"
            ],
            [
             0.1,
             "#c51b7d"
            ],
            [
             0.2,
             "#de77ae"
            ],
            [
             0.3,
             "#f1b6da"
            ],
            [
             0.4,
             "#fde0ef"
            ],
            [
             0.5,
             "#f7f7f7"
            ],
            [
             0.6,
             "#e6f5d0"
            ],
            [
             0.7,
             "#b8e186"
            ],
            [
             0.8,
             "#7fbc41"
            ],
            [
             0.9,
             "#4d9221"
            ],
            [
             1,
             "#276419"
            ]
           ],
           "sequential": [
            [
             0,
             "#0d0887"
            ],
            [
             0.1111111111111111,
             "#46039f"
            ],
            [
             0.2222222222222222,
             "#7201a8"
            ],
            [
             0.3333333333333333,
             "#9c179e"
            ],
            [
             0.4444444444444444,
             "#bd3786"
            ],
            [
             0.5555555555555556,
             "#d8576b"
            ],
            [
             0.6666666666666666,
             "#ed7953"
            ],
            [
             0.7777777777777778,
             "#fb9f3a"
            ],
            [
             0.8888888888888888,
             "#fdca26"
            ],
            [
             1,
             "#f0f921"
            ]
           ],
           "sequentialminus": [
            [
             0,
             "#0d0887"
            ],
            [
             0.1111111111111111,
             "#46039f"
            ],
            [
             0.2222222222222222,
             "#7201a8"
            ],
            [
             0.3333333333333333,
             "#9c179e"
            ],
            [
             0.4444444444444444,
             "#bd3786"
            ],
            [
             0.5555555555555556,
             "#d8576b"
            ],
            [
             0.6666666666666666,
             "#ed7953"
            ],
            [
             0.7777777777777778,
             "#fb9f3a"
            ],
            [
             0.8888888888888888,
             "#fdca26"
            ],
            [
             1,
             "#f0f921"
            ]
           ]
          },
          "colorway": [
           "#636efa",
           "#EF553B",
           "#00cc96",
           "#ab63fa",
           "#FFA15A",
           "#19d3f3",
           "#FF6692",
           "#B6E880",
           "#FF97FF",
           "#FECB52"
          ],
          "font": {
           "color": "#2a3f5f"
          },
          "geo": {
           "bgcolor": "white",
           "lakecolor": "white",
           "landcolor": "#E5ECF6",
           "showlakes": true,
           "showland": true,
           "subunitcolor": "white"
          },
          "hoverlabel": {
           "align": "left"
          },
          "hovermode": "closest",
          "mapbox": {
           "style": "light"
          },
          "paper_bgcolor": "white",
          "plot_bgcolor": "#E5ECF6",
          "polar": {
           "angularaxis": {
            "gridcolor": "white",
            "linecolor": "white",
            "ticks": ""
           },
           "bgcolor": "#E5ECF6",
           "radialaxis": {
            "gridcolor": "white",
            "linecolor": "white",
            "ticks": ""
           }
          },
          "scene": {
           "xaxis": {
            "backgroundcolor": "#E5ECF6",
            "gridcolor": "white",
            "gridwidth": 2,
            "linecolor": "white",
            "showbackground": true,
            "ticks": "",
            "zerolinecolor": "white"
           },
           "yaxis": {
            "backgroundcolor": "#E5ECF6",
            "gridcolor": "white",
            "gridwidth": 2,
            "linecolor": "white",
            "showbackground": true,
            "ticks": "",
            "zerolinecolor": "white"
           },
           "zaxis": {
            "backgroundcolor": "#E5ECF6",
            "gridcolor": "white",
            "gridwidth": 2,
            "linecolor": "white",
            "showbackground": true,
            "ticks": "",
            "zerolinecolor": "white"
           }
          },
          "shapedefaults": {
           "line": {
            "color": "#2a3f5f"
           }
          },
          "ternary": {
           "aaxis": {
            "gridcolor": "white",
            "linecolor": "white",
            "ticks": ""
           },
           "baxis": {
            "gridcolor": "white",
            "linecolor": "white",
            "ticks": ""
           },
           "bgcolor": "#E5ECF6",
           "caxis": {
            "gridcolor": "white",
            "linecolor": "white",
            "ticks": ""
           }
          },
          "title": {
           "x": 0.05
          },
          "xaxis": {
           "automargin": true,
           "gridcolor": "white",
           "linecolor": "white",
           "ticks": "",
           "title": {
            "standoff": 15
           },
           "zerolinecolor": "white",
           "zerolinewidth": 2
          },
          "yaxis": {
           "automargin": true,
           "gridcolor": "white",
           "linecolor": "white",
           "ticks": "",
           "title": {
            "standoff": 15
           },
           "zerolinecolor": "white",
           "zerolinewidth": 2
          }
         }
        },
        "title": {
         "font": {
          "color": "#4D5663"
         },
         "text": "Bar chart of Department Name"
        },
        "xaxis": {
         "gridcolor": "#E1E5ED",
         "linecolor": "black",
         "showgrid": true,
         "tickfont": {
          "color": "#4D5663"
         },
         "title": {
          "font": {
           "color": "#4D5663"
          },
          "text": "Department Name"
         },
         "zerolinecolor": "#E1E5ED"
        },
        "yaxis": {
         "gridcolor": "#E1E5ED",
         "linecolor": "black",
         "showgrid": true,
         "tickfont": {
          "color": "#4D5663"
         },
         "title": {
          "font": {
           "color": "#4D5663"
          },
          "text": "Count"
         },
         "zerolinecolor": "#E1E5ED"
        }
       }
      },
      "text/html": [
       "<div>\n",
       "        \n",
       "        \n",
       "            <div id=\"68602ef4-9ff8-45bd-96f8-2e0187a8ca49\" class=\"plotly-graph-div\" style=\"height:525px; width:100%;\"></div>\n",
       "            <script type=\"text/javascript\">\n",
       "                require([\"plotly\"], function(Plotly) {\n",
       "                    window.PLOTLYENV=window.PLOTLYENV || {};\n",
       "                    window.PLOTLYENV.BASE_URL='https://plot.ly';\n",
       "                    \n",
       "                if (document.getElementById(\"68602ef4-9ff8-45bd-96f8-2e0187a8ca49\")) {\n",
       "                    Plotly.newPlot(\n",
       "                        '68602ef4-9ff8-45bd-96f8-2e0187a8ca49',\n",
       "                        [{\"marker\": {\"color\": \"rgba(255, 153, 51, 0.8)\", \"line\": {\"color\": \"rgba(255, 153, 51, 1.0)\", \"width\": 1}}, \"name\": \"title\", \"orientation\": \"v\", \"text\": \"\", \"type\": \"bar\", \"x\": [\"Politics\", \"Non-Political\", \"Coronavirus\", \"AskIndia\", \"Policy/Economy\", \"Science/Technology\", \"Business/Finance\", \"CAA-NRC\", \"Photography\", \"Food\", \"Sports\", \"Scheduled\", \"All CAPS.\", \"Low-effort self-post.\", \"| Repost |\", \"| Not Original/Relevant Title |\", \"CAA-NRC-NPR\", \"Demonetization\", \"| Unverified Content / Disreputed Source |\", \"| Social Media Rules |\", \"| Low-effort Self Post |\", \"| Not specific to India |\", \"Low Quality/Non OC Meme\", \"Meta.\", \"| Not in English |\", \"Shitpost\", \"| Stickied Topic |\", \"| Self-promotion |\", \"| Image Rule Violation |\", \"Post link Directly\", \"Unverified\", \"| Custom (Informed OP) |\", \"Not Appropriate Subreddit\", \"| Personal/Unverified Social Media |\", \"Dead Link\", \"| [OLD] Content |\", \"AMA\", \"| Not in English | | Unverified Content / Disreputed Source |\", \"| Not Original/Relevant Title | | Social Media Rules |\", \"| Not specific to India | | Not Original/Relevant Title |\", \"| Witch-hunting/Targeting User |\", \"| Not in English | | Not Original/Relevant Title |\", \"| Self-promotion | | Social Media Rules |\", \"| Personal Info |\", \"Personal/Unverified Twitter.\", \"| Not in English | | Social Media Rules |\", \"| Not specific to India | | Social Media Rules |\", \"Announcement\", \"| Low-effort Self Post | Post link Directly\", \"| Self-promotion | Shitpost\", \"| Not specific to India | | Self-promotion |\", \"| Repost | Post link Directly\", \"| Self-promotion | | Unverified Content / Disreputed Source |\", \"Aug 2019 - Politics\", \"| Personal Info | | Self-promotion |\", \"| Unverified Content / Disreputed Source | Shitpost\", \"AMA Announcement\", \"| Not specific to India | | Stickied Topic |\", \"Foodpolitics\", \"Casual AMA\", \"| Not Original/Relevant Title | Post link Directly\", \"Megathread\", \"Translation provided in comments\", \"| Witch-hunting/Targeting User | Meta.\", \"| Image Rule Violation | | Low-effort Self Post |\", \"| Not Original/Relevant Title | | Custom (Informed OP) |\", \"| Not Original/Relevant Title | | Image Rule Violation |\", \"Verified\", \"| Not Original/Relevant Title | | Low-effort Self Post |\", \"| Not Original/Relevant Title | | Repost |\", \"Meta\", \"| Not Original/Relevant Title | | Stickied Topic |\", \"| Not in English | | Low-effort Self Post |\", \"| Not in English | | Social Media Rules | Post link Directly\", \"PARTAYYY AGAIN :D\", \"| Not specific to India | Low Quality/Non OC Meme\", \"| Low-effort Self Post | | Stickied Topic |\", \"| Not specific to India | | Low-effort Self Post | Shitpost\"], \"y\": [10734, 9320, 9091, 6000, 1688, 1619, 1526, 1070, 1022, 546, 478, 350, 305, 230, 128, 106, 104, 98, 89, 78, 70, 67, 52, 27, 24, 19, 18, 14, 12, 10, 7, 7, 5, 5, 4, 4, 4, 4, 3, 3, 3, 3, 3, 2, 2, 2, 2, 2, 2, 1, 1, 1, 1, 1, 1, 1, 1, 1, 1, 1, 1, 1, 1, 1, 1, 1, 1, 1, 1, 1, 1, 1, 1, 1, 1, 1, 1, 1]}],\n",
       "                        {\"legend\": {\"bgcolor\": \"#F5F6F9\", \"font\": {\"color\": \"#4D5663\"}}, \"paper_bgcolor\": \"#F5F6F9\", \"plot_bgcolor\": \"#F5F6F9\", \"template\": {\"data\": {\"bar\": [{\"error_x\": {\"color\": \"#2a3f5f\"}, \"error_y\": {\"color\": \"#2a3f5f\"}, \"marker\": {\"line\": {\"color\": \"#E5ECF6\", \"width\": 0.5}}, \"type\": \"bar\"}], \"barpolar\": [{\"marker\": {\"line\": {\"color\": \"#E5ECF6\", \"width\": 0.5}}, \"type\": \"barpolar\"}], \"carpet\": [{\"aaxis\": {\"endlinecolor\": \"#2a3f5f\", \"gridcolor\": \"white\", \"linecolor\": \"white\", \"minorgridcolor\": \"white\", \"startlinecolor\": \"#2a3f5f\"}, \"baxis\": {\"endlinecolor\": \"#2a3f5f\", \"gridcolor\": \"white\", \"linecolor\": \"white\", \"minorgridcolor\": \"white\", \"startlinecolor\": \"#2a3f5f\"}, \"type\": \"carpet\"}], \"choropleth\": [{\"colorbar\": {\"outlinewidth\": 0, \"ticks\": \"\"}, \"type\": \"choropleth\"}], \"contour\": [{\"colorbar\": {\"outlinewidth\": 0, \"ticks\": \"\"}, \"colorscale\": [[0.0, \"#0d0887\"], [0.1111111111111111, \"#46039f\"], [0.2222222222222222, \"#7201a8\"], [0.3333333333333333, \"#9c179e\"], [0.4444444444444444, \"#bd3786\"], [0.5555555555555556, \"#d8576b\"], [0.6666666666666666, \"#ed7953\"], [0.7777777777777778, \"#fb9f3a\"], [0.8888888888888888, \"#fdca26\"], [1.0, \"#f0f921\"]], \"type\": \"contour\"}], \"contourcarpet\": [{\"colorbar\": {\"outlinewidth\": 0, \"ticks\": \"\"}, \"type\": \"contourcarpet\"}], \"heatmap\": [{\"colorbar\": {\"outlinewidth\": 0, \"ticks\": \"\"}, \"colorscale\": [[0.0, \"#0d0887\"], [0.1111111111111111, \"#46039f\"], [0.2222222222222222, \"#7201a8\"], [0.3333333333333333, \"#9c179e\"], [0.4444444444444444, \"#bd3786\"], [0.5555555555555556, \"#d8576b\"], [0.6666666666666666, \"#ed7953\"], [0.7777777777777778, \"#fb9f3a\"], [0.8888888888888888, \"#fdca26\"], [1.0, \"#f0f921\"]], \"type\": \"heatmap\"}], \"heatmapgl\": [{\"colorbar\": {\"outlinewidth\": 0, \"ticks\": \"\"}, \"colorscale\": [[0.0, \"#0d0887\"], [0.1111111111111111, \"#46039f\"], [0.2222222222222222, \"#7201a8\"], [0.3333333333333333, \"#9c179e\"], [0.4444444444444444, \"#bd3786\"], [0.5555555555555556, \"#d8576b\"], [0.6666666666666666, \"#ed7953\"], [0.7777777777777778, \"#fb9f3a\"], [0.8888888888888888, \"#fdca26\"], [1.0, \"#f0f921\"]], \"type\": \"heatmapgl\"}], \"histogram\": [{\"marker\": {\"colorbar\": {\"outlinewidth\": 0, \"ticks\": \"\"}}, \"type\": \"histogram\"}], \"histogram2d\": [{\"colorbar\": {\"outlinewidth\": 0, \"ticks\": \"\"}, \"colorscale\": [[0.0, \"#0d0887\"], [0.1111111111111111, \"#46039f\"], [0.2222222222222222, \"#7201a8\"], [0.3333333333333333, \"#9c179e\"], [0.4444444444444444, \"#bd3786\"], [0.5555555555555556, \"#d8576b\"], [0.6666666666666666, \"#ed7953\"], [0.7777777777777778, \"#fb9f3a\"], [0.8888888888888888, \"#fdca26\"], [1.0, \"#f0f921\"]], \"type\": \"histogram2d\"}], \"histogram2dcontour\": [{\"colorbar\": {\"outlinewidth\": 0, \"ticks\": \"\"}, \"colorscale\": [[0.0, \"#0d0887\"], [0.1111111111111111, \"#46039f\"], [0.2222222222222222, \"#7201a8\"], [0.3333333333333333, \"#9c179e\"], [0.4444444444444444, \"#bd3786\"], [0.5555555555555556, \"#d8576b\"], [0.6666666666666666, \"#ed7953\"], [0.7777777777777778, \"#fb9f3a\"], [0.8888888888888888, \"#fdca26\"], [1.0, \"#f0f921\"]], \"type\": \"histogram2dcontour\"}], \"mesh3d\": [{\"colorbar\": {\"outlinewidth\": 0, \"ticks\": \"\"}, \"type\": \"mesh3d\"}], \"parcoords\": [{\"line\": {\"colorbar\": {\"outlinewidth\": 0, \"ticks\": \"\"}}, \"type\": \"parcoords\"}], \"pie\": [{\"automargin\": true, \"type\": \"pie\"}], \"scatter\": [{\"marker\": {\"colorbar\": {\"outlinewidth\": 0, \"ticks\": \"\"}}, \"type\": \"scatter\"}], \"scatter3d\": [{\"line\": {\"colorbar\": {\"outlinewidth\": 0, \"ticks\": \"\"}}, \"marker\": {\"colorbar\": {\"outlinewidth\": 0, \"ticks\": \"\"}}, \"type\": \"scatter3d\"}], \"scattercarpet\": [{\"marker\": {\"colorbar\": {\"outlinewidth\": 0, \"ticks\": \"\"}}, \"type\": \"scattercarpet\"}], \"scattergeo\": [{\"marker\": {\"colorbar\": {\"outlinewidth\": 0, \"ticks\": \"\"}}, \"type\": \"scattergeo\"}], \"scattergl\": [{\"marker\": {\"colorbar\": {\"outlinewidth\": 0, \"ticks\": \"\"}}, \"type\": \"scattergl\"}], \"scattermapbox\": [{\"marker\": {\"colorbar\": {\"outlinewidth\": 0, \"ticks\": \"\"}}, \"type\": \"scattermapbox\"}], \"scatterpolar\": [{\"marker\": {\"colorbar\": {\"outlinewidth\": 0, \"ticks\": \"\"}}, \"type\": \"scatterpolar\"}], \"scatterpolargl\": [{\"marker\": {\"colorbar\": {\"outlinewidth\": 0, \"ticks\": \"\"}}, \"type\": \"scatterpolargl\"}], \"scatterternary\": [{\"marker\": {\"colorbar\": {\"outlinewidth\": 0, \"ticks\": \"\"}}, \"type\": \"scatterternary\"}], \"surface\": [{\"colorbar\": {\"outlinewidth\": 0, \"ticks\": \"\"}, \"colorscale\": [[0.0, \"#0d0887\"], [0.1111111111111111, \"#46039f\"], [0.2222222222222222, \"#7201a8\"], [0.3333333333333333, \"#9c179e\"], [0.4444444444444444, \"#bd3786\"], [0.5555555555555556, \"#d8576b\"], [0.6666666666666666, \"#ed7953\"], [0.7777777777777778, \"#fb9f3a\"], [0.8888888888888888, \"#fdca26\"], [1.0, \"#f0f921\"]], \"type\": \"surface\"}], \"table\": [{\"cells\": {\"fill\": {\"color\": \"#EBF0F8\"}, \"line\": {\"color\": \"white\"}}, \"header\": {\"fill\": {\"color\": \"#C8D4E3\"}, \"line\": {\"color\": \"white\"}}, \"type\": \"table\"}]}, \"layout\": {\"annotationdefaults\": {\"arrowcolor\": \"#2a3f5f\", \"arrowhead\": 0, \"arrowwidth\": 1}, \"coloraxis\": {\"colorbar\": {\"outlinewidth\": 0, \"ticks\": \"\"}}, \"colorscale\": {\"diverging\": [[0, \"#8e0152\"], [0.1, \"#c51b7d\"], [0.2, \"#de77ae\"], [0.3, \"#f1b6da\"], [0.4, \"#fde0ef\"], [0.5, \"#f7f7f7\"], [0.6, \"#e6f5d0\"], [0.7, \"#b8e186\"], [0.8, \"#7fbc41\"], [0.9, \"#4d9221\"], [1, \"#276419\"]], \"sequential\": [[0.0, \"#0d0887\"], [0.1111111111111111, \"#46039f\"], [0.2222222222222222, \"#7201a8\"], [0.3333333333333333, \"#9c179e\"], [0.4444444444444444, \"#bd3786\"], [0.5555555555555556, \"#d8576b\"], [0.6666666666666666, \"#ed7953\"], [0.7777777777777778, \"#fb9f3a\"], [0.8888888888888888, \"#fdca26\"], [1.0, \"#f0f921\"]], \"sequentialminus\": [[0.0, \"#0d0887\"], [0.1111111111111111, \"#46039f\"], [0.2222222222222222, \"#7201a8\"], [0.3333333333333333, \"#9c179e\"], [0.4444444444444444, \"#bd3786\"], [0.5555555555555556, \"#d8576b\"], [0.6666666666666666, \"#ed7953\"], [0.7777777777777778, \"#fb9f3a\"], [0.8888888888888888, \"#fdca26\"], [1.0, \"#f0f921\"]]}, \"colorway\": [\"#636efa\", \"#EF553B\", \"#00cc96\", \"#ab63fa\", \"#FFA15A\", \"#19d3f3\", \"#FF6692\", \"#B6E880\", \"#FF97FF\", \"#FECB52\"], \"font\": {\"color\": \"#2a3f5f\"}, \"geo\": {\"bgcolor\": \"white\", \"lakecolor\": \"white\", \"landcolor\": \"#E5ECF6\", \"showlakes\": true, \"showland\": true, \"subunitcolor\": \"white\"}, \"hoverlabel\": {\"align\": \"left\"}, \"hovermode\": \"closest\", \"mapbox\": {\"style\": \"light\"}, \"paper_bgcolor\": \"white\", \"plot_bgcolor\": \"#E5ECF6\", \"polar\": {\"angularaxis\": {\"gridcolor\": \"white\", \"linecolor\": \"white\", \"ticks\": \"\"}, \"bgcolor\": \"#E5ECF6\", \"radialaxis\": {\"gridcolor\": \"white\", \"linecolor\": \"white\", \"ticks\": \"\"}}, \"scene\": {\"xaxis\": {\"backgroundcolor\": \"#E5ECF6\", \"gridcolor\": \"white\", \"gridwidth\": 2, \"linecolor\": \"white\", \"showbackground\": true, \"ticks\": \"\", \"zerolinecolor\": \"white\"}, \"yaxis\": {\"backgroundcolor\": \"#E5ECF6\", \"gridcolor\": \"white\", \"gridwidth\": 2, \"linecolor\": \"white\", \"showbackground\": true, \"ticks\": \"\", \"zerolinecolor\": \"white\"}, \"zaxis\": {\"backgroundcolor\": \"#E5ECF6\", \"gridcolor\": \"white\", \"gridwidth\": 2, \"linecolor\": \"white\", \"showbackground\": true, \"ticks\": \"\", \"zerolinecolor\": \"white\"}}, \"shapedefaults\": {\"line\": {\"color\": \"#2a3f5f\"}}, \"ternary\": {\"aaxis\": {\"gridcolor\": \"white\", \"linecolor\": \"white\", \"ticks\": \"\"}, \"baxis\": {\"gridcolor\": \"white\", \"linecolor\": \"white\", \"ticks\": \"\"}, \"bgcolor\": \"#E5ECF6\", \"caxis\": {\"gridcolor\": \"white\", \"linecolor\": \"white\", \"ticks\": \"\"}}, \"title\": {\"x\": 0.05}, \"xaxis\": {\"automargin\": true, \"gridcolor\": \"white\", \"linecolor\": \"white\", \"ticks\": \"\", \"title\": {\"standoff\": 15}, \"zerolinecolor\": \"white\", \"zerolinewidth\": 2}, \"yaxis\": {\"automargin\": true, \"gridcolor\": \"white\", \"linecolor\": \"white\", \"ticks\": \"\", \"title\": {\"standoff\": 15}, \"zerolinecolor\": \"white\", \"zerolinewidth\": 2}}}, \"title\": {\"font\": {\"color\": \"#4D5663\"}, \"text\": \"Bar chart of Department Name\"}, \"xaxis\": {\"gridcolor\": \"#E1E5ED\", \"linecolor\": \"black\", \"showgrid\": true, \"tickfont\": {\"color\": \"#4D5663\"}, \"title\": {\"font\": {\"color\": \"#4D5663\"}, \"text\": \"Department Name\"}, \"zerolinecolor\": \"#E1E5ED\"}, \"yaxis\": {\"gridcolor\": \"#E1E5ED\", \"linecolor\": \"black\", \"showgrid\": true, \"tickfont\": {\"color\": \"#4D5663\"}, \"title\": {\"font\": {\"color\": \"#4D5663\"}, \"text\": \"Count\"}, \"zerolinecolor\": \"#E1E5ED\"}},\n",
       "                        {\"showLink\": true, \"linkText\": \"Export to plot.ly\", \"plotlyServerURL\": \"https://plot.ly\", \"responsive\": true}\n",
       "                    ).then(function(){\n",
       "                            \n",
       "var gd = document.getElementById('68602ef4-9ff8-45bd-96f8-2e0187a8ca49');\n",
       "var x = new MutationObserver(function (mutations, observer) {{\n",
       "        var display = window.getComputedStyle(gd).display;\n",
       "        if (!display || display === 'none') {{\n",
       "            console.log([gd, 'removed!']);\n",
       "            Plotly.purge(gd);\n",
       "            observer.disconnect();\n",
       "        }}\n",
       "}});\n",
       "\n",
       "// Listen for the removal of the full notebook cells\n",
       "var notebookContainer = gd.closest('#notebook-container');\n",
       "if (notebookContainer) {{\n",
       "    x.observe(notebookContainer, {childList: true});\n",
       "}}\n",
       "\n",
       "// Listen for the clearing of the current output cell\n",
       "var outputEl = gd.closest('.output');\n",
       "if (outputEl) {{\n",
       "    x.observe(outputEl, {childList: true});\n",
       "}}\n",
       "\n",
       "                        })\n",
       "                };\n",
       "                });\n",
       "            </script>\n",
       "        </div>"
      ]
     },
     "metadata": {},
     "output_type": "display_data"
    }
   ],
   "source": [
    "df.groupby('flair').count()['title'].sort_values(ascending=False).iplot(kind='bar', yTitle='Count', linecolor='black', opacity=0.8,title='Bar chart of Department Name', xTitle='Department Name')"
   ]
  },
  {
   "cell_type": "markdown",
   "metadata": {},
   "source": [
    "##### IT WAS FOUND THAT THE DATA WAS HIGHLY BIASED .\n",
    "MORE THAN 50% DATA WAS COMPRISED OF JUST 4 CLASSES.\n",
    "SEPERATED THE 10 MOST FREQUENT FLAIRS & ENLISTED THEM IN LIST CALLED FLAIR2KEEP .\n",
    "ALL OTHER CLASSES WERE DROPPED AS IT WOULD BE DIFFICULT FOR THE MODEL TO WORK WITH SO MANY CLASSES"
   ]
  },
  {
   "cell_type": "code",
   "execution_count": 12,
   "metadata": {},
   "outputs": [
    {
     "data": {
      "image/png": "[encoded data removed]",
      "text/plain": [
       "<Figure size 576x432 with 1 Axes>"
      ]
     },
     "metadata": {
      "needs_background": "light"
     },
     "output_type": "display_data"
    }
   ],
   "source": [
    "import matplotlib.pyplot as plt\n",
    "fig = plt.figure(figsize=(8,6))\n",
    "df.groupby('flair').title.count().plot.bar(ylim=0)\n",
    "plt.show()"
   ]
  },
  {
   "cell_type": "markdown",
   "metadata": {},
   "source": [
    "#### 10 MOST FREQUENT CLASSES WERE KEPT & REST OF THEM WERE DROPPED\n"
   ]
  },
  {
   "cell_type": "code",
   "execution_count": 13,
   "metadata": {},
   "outputs": [
    {
     "data": {
      "text/plain": [
       "['Politics',\n",
       " 'Non-Political',\n",
       " 'Coronavirus',\n",
       " 'AskIndia',\n",
       " 'Policy/Economy',\n",
       " 'Science/Technology',\n",
       " 'Business/Finance',\n",
       " 'CAA-NRC',\n",
       " 'Photography',\n",
       " 'Food']"
      ]
     },
     "execution_count": 13,
     "metadata": {},
     "output_type": "execute_result"
    }
   ],
   "source": [
    "flairs2keep = df1['link_flair_text'].value_counts()[:10].index.tolist()\n",
    "flairs2keep"
   ]
  },
  {
   "cell_type": "code",
   "execution_count": 14,
   "metadata": {},
   "outputs": [],
   "source": [
    "for f in flair_set:\n",
    "    if f not in flairs2keep:\n",
    "        df = df[df.flair != f]\n",
    "    else :\n",
    "        continue"
   ]
  },
  {
   "cell_type": "code",
   "execution_count": 15,
   "metadata": {},
   "outputs": [
    {
     "data": {
      "text/plain": [
       "{'AskIndia',\n",
       " 'Business/Finance',\n",
       " 'CAA-NRC',\n",
       " 'Coronavirus',\n",
       " 'Food',\n",
       " 'Non-Political',\n",
       " 'Photography',\n",
       " 'Policy/Economy',\n",
       " 'Politics',\n",
       " 'Science/Technology'}"
      ]
     },
     "execution_count": 15,
     "metadata": {},
     "output_type": "execute_result"
    }
   ],
   "source": [
    "set(df['flair'])"
   ]
  },
  {
   "cell_type": "markdown",
   "metadata": {},
   "source": [
    "### BALANCING THE BIASED DATA"
   ]
  },
  {
   "cell_type": "markdown",
   "metadata": {},
   "source": [
    "##### It was observed that the data collected was biased. On analysing the number of count "
   ]
  },
  {
   "cell_type": "markdown",
   "metadata": {},
   "source": [
    "##### i found that the class with minimum count had 500(appx) values whereas the rest lower 5 varied from 1000-1500. I decided it would be fair enough to resample the data to a value of 2000 per class."
   ]
  },
  {
   "cell_type": "markdown",
   "metadata": {},
   "source": [
    "#####  2000 DATA VALUES FROM EACH CLASS WERE EXPLICILY TAKEN BY PERFORMING OVER OR UNDERSAMPLING ACCORDINGLY"
   ]
  },
  {
   "cell_type": "code",
   "execution_count": 16,
   "metadata": {
    "scrolled": true
   },
   "outputs": [
    {
     "data": {
      "text/html": [
       "<div>\n",
       "<style scoped>\n",
       "    .dataframe tbody tr th:only-of-type {\n",
       "        vertical-align: middle;\n",
       "    }\n",
       "\n",
       "    .dataframe tbody tr th {\n",
       "        vertical-align: top;\n",
       "    }\n",
       "\n",
       "    .dataframe thead th {\n",
       "        text-align: right;\n",
       "    }\n",
       "</style>\n",
       "<table border=\"1\" class=\"dataframe\">\n",
       "  <thead>\n",
       "    <tr style=\"text-align: right;\">\n",
       "      <th></th>\n",
       "      <th>flair</th>\n",
       "      <th>count</th>\n",
       "    </tr>\n",
       "  </thead>\n",
       "  <tbody>\n",
       "    <tr>\n",
       "      <th>0</th>\n",
       "      <td>Politics</td>\n",
       "      <td>10734</td>\n",
       "    </tr>\n",
       "    <tr>\n",
       "      <th>1</th>\n",
       "      <td>Non-Political</td>\n",
       "      <td>9320</td>\n",
       "    </tr>\n",
       "    <tr>\n",
       "      <th>2</th>\n",
       "      <td>Coronavirus</td>\n",
       "      <td>9091</td>\n",
       "    </tr>\n",
       "    <tr>\n",
       "      <th>3</th>\n",
       "      <td>AskIndia</td>\n",
       "      <td>6000</td>\n",
       "    </tr>\n",
       "    <tr>\n",
       "      <th>4</th>\n",
       "      <td>Policy/Economy</td>\n",
       "      <td>1688</td>\n",
       "    </tr>\n",
       "    <tr>\n",
       "      <th>5</th>\n",
       "      <td>Science/Technology</td>\n",
       "      <td>1619</td>\n",
       "    </tr>\n",
       "    <tr>\n",
       "      <th>6</th>\n",
       "      <td>Business/Finance</td>\n",
       "      <td>1526</td>\n",
       "    </tr>\n",
       "    <tr>\n",
       "      <th>7</th>\n",
       "      <td>CAA-NRC</td>\n",
       "      <td>1070</td>\n",
       "    </tr>\n",
       "    <tr>\n",
       "      <th>8</th>\n",
       "      <td>Photography</td>\n",
       "      <td>1022</td>\n",
       "    </tr>\n",
       "    <tr>\n",
       "      <th>9</th>\n",
       "      <td>Food</td>\n",
       "      <td>546</td>\n",
       "    </tr>\n",
       "  </tbody>\n",
       "</table>\n",
       "</div>"
      ],
      "text/plain": [
       "                flair  count\n",
       "0            Politics  10734\n",
       "1       Non-Political   9320\n",
       "2         Coronavirus   9091\n",
       "3            AskIndia   6000\n",
       "4      Policy/Economy   1688\n",
       "5  Science/Technology   1619\n",
       "6    Business/Finance   1526\n",
       "7             CAA-NRC   1070\n",
       "8         Photography   1022\n",
       "9                Food    546"
      ]
     },
     "execution_count": 16,
     "metadata": {},
     "output_type": "execute_result"
    }
   ],
   "source": [
    "flairs_count = {'flair' : [] , 'count' : []}\n",
    "for flair in flairs2keep:\n",
    "    count = np.sum(df.loc[:, 'flair'].values == flair)\n",
    "    flairs_count['flair'].append(flair)\n",
    "    flairs_count['count'].append(count)\n",
    "pd.DataFrame(flairs_count)"
   ]
  },
  {
   "cell_type": "code",
   "execution_count": 17,
   "metadata": {},
   "outputs": [],
   "source": [
    "corona_df = df[df.flair == 'Coronavirus']\n",
    "np_df     = df[df.flair == 'Non-Political']\n",
    "p_df      = df[df.flair == 'Politics']\n",
    "ask_df    = df[df.flair == 'AskIndia']\n",
    "food_df   = df[df.flair == 'Food']\n",
    "tech_df   = df[df.flair == 'Science/Technology']\n",
    "econ_df   = df[df.flair == 'Policy/Economy']\n",
    "fin_df    = df[df.flair == 'Business/Finance']\n",
    "caa_df    = df[df.flair == 'CAA-NRC']\n",
    "photo_df  = df[df.flair == 'Photography']"
   ]
  },
  {
   "cell_type": "code",
   "execution_count": 18,
   "metadata": {},
   "outputs": [],
   "source": [
    "from sklearn.utils import resample\n",
    "\n",
    "corona_bal = resample(corona_df,\n",
    "                          replace = False, \n",
    "                          n_samples = 2000, \n",
    "                          random_state = 27)\n",
    "np_bal = resample(np_df,\n",
    "                          replace = False,\n",
    "                          n_samples = 2000, \n",
    "                          random_state = 27)\n",
    "p_bal = resample(p_df,\n",
    "                          replace = False, \n",
    "                          n_samples = 2000, \n",
    "                          random_state = 27)\n",
    "ask_bal = resample(ask_df,\n",
    "                          replace = False, \n",
    "                          n_samples = 2000, \n",
    "                          random_state = 27)\n",
    "\n",
    "photo_bal =  resample(photo_df,\n",
    "                          replace = True, \n",
    "                          n_samples = 2000, \n",
    "                          random_state = 27)\n",
    "food_bal  =  resample(food_df,\n",
    "                          replace = True, \n",
    "                          n_samples = 2000, \n",
    "                          random_state = 27)\n",
    "tech_bal  =  resample(tech_df,\n",
    "                          replace = True, \n",
    "                          n_samples = 2000, \n",
    "                          random_state = 27)\n",
    "econ_bal = resample(econ_df,\n",
    "                          replace = True,\n",
    "                          n_samples = 2000, \n",
    "                          random_state = 27)\n",
    "fin_bal = resample(fin_df,\n",
    "                          replace = True, \n",
    "                          n_samples = 2000, \n",
    "                          random_state = 27)\n",
    "caa_bal = resample(caa_df,\n",
    "                          replace = True, \n",
    "                          n_samples = 2000,\n",
    "                          random_state = 27)\n",
    "\n"
   ]
  },
  {
   "cell_type": "code",
   "execution_count": 19,
   "metadata": {},
   "outputs": [],
   "source": [
    "df_2 = pd.concat([caa_bal,econ_bal,fin_bal,tech_bal,food_bal,ask_bal,photo_bal,p_bal,np_bal,corona_bal ])"
   ]
  },
  {
   "cell_type": "code",
   "execution_count": 20,
   "metadata": {},
   "outputs": [
    {
     "data": {
      "text/html": [
       "<div>\n",
       "<style scoped>\n",
       "    .dataframe tbody tr th:only-of-type {\n",
       "        vertical-align: middle;\n",
       "    }\n",
       "\n",
       "    .dataframe tbody tr th {\n",
       "        vertical-align: top;\n",
       "    }\n",
       "\n",
       "    .dataframe thead th {\n",
       "        text-align: right;\n",
       "    }\n",
       "</style>\n",
       "<table border=\"1\" class=\"dataframe\">\n",
       "  <thead>\n",
       "    <tr style=\"text-align: right;\">\n",
       "      <th></th>\n",
       "      <th>flair</th>\n",
       "      <th>count</th>\n",
       "    </tr>\n",
       "  </thead>\n",
       "  <tbody>\n",
       "    <tr>\n",
       "      <th>0</th>\n",
       "      <td>Politics</td>\n",
       "      <td>2000</td>\n",
       "    </tr>\n",
       "    <tr>\n",
       "      <th>1</th>\n",
       "      <td>Non-Political</td>\n",
       "      <td>2000</td>\n",
       "    </tr>\n",
       "    <tr>\n",
       "      <th>2</th>\n",
       "      <td>Coronavirus</td>\n",
       "      <td>2000</td>\n",
       "    </tr>\n",
       "    <tr>\n",
       "      <th>3</th>\n",
       "      <td>AskIndia</td>\n",
       "      <td>2000</td>\n",
       "    </tr>\n",
       "    <tr>\n",
       "      <th>4</th>\n",
       "      <td>Policy/Economy</td>\n",
       "      <td>2000</td>\n",
       "    </tr>\n",
       "    <tr>\n",
       "      <th>5</th>\n",
       "      <td>Science/Technology</td>\n",
       "      <td>2000</td>\n",
       "    </tr>\n",
       "    <tr>\n",
       "      <th>6</th>\n",
       "      <td>Business/Finance</td>\n",
       "      <td>2000</td>\n",
       "    </tr>\n",
       "    <tr>\n",
       "      <th>7</th>\n",
       "      <td>CAA-NRC</td>\n",
       "      <td>2000</td>\n",
       "    </tr>\n",
       "    <tr>\n",
       "      <th>8</th>\n",
       "      <td>Photography</td>\n",
       "      <td>2000</td>\n",
       "    </tr>\n",
       "    <tr>\n",
       "      <th>9</th>\n",
       "      <td>Food</td>\n",
       "      <td>2000</td>\n",
       "    </tr>\n",
       "  </tbody>\n",
       "</table>\n",
       "</div>"
      ],
      "text/plain": [
       "                flair  count\n",
       "0            Politics   2000\n",
       "1       Non-Political   2000\n",
       "2         Coronavirus   2000\n",
       "3            AskIndia   2000\n",
       "4      Policy/Economy   2000\n",
       "5  Science/Technology   2000\n",
       "6    Business/Finance   2000\n",
       "7             CAA-NRC   2000\n",
       "8         Photography   2000\n",
       "9                Food   2000"
      ]
     },
     "execution_count": 20,
     "metadata": {},
     "output_type": "execute_result"
    }
   ],
   "source": [
    "flairs_count = {'flair' : [] , 'count' : []}\n",
    "for flair in flairs2keep:\n",
    "    count = np.sum(df_2.loc[:, 'flair'].values == flair)\n",
    "    flairs_count['flair'].append(flair)\n",
    "    flairs_count['count'].append(count)\n",
    "pd.DataFrame(flairs_count)"
   ]
  },
  {
   "cell_type": "code",
   "execution_count": 21,
   "metadata": {},
   "outputs": [
    {
     "data": {
      "image/png": "[encoded data removed]",
      "text/plain": [
       "<Figure size 576x432 with 1 Axes>"
      ]
     },
     "metadata": {
      "needs_background": "light"
     },
     "output_type": "display_data"
    }
   ],
   "source": [
    "import matplotlib.pyplot as plt\n",
    "fig = plt.figure(figsize=(8,6))\n",
    "df_2.groupby('flair').title.count().plot.bar(ylim=0)\n",
    "plt.show()"
   ]
  },
  {
   "cell_type": "code",
   "execution_count": 22,
   "metadata": {},
   "outputs": [],
   "source": [
    "df_3 = df.copy()\n",
    "df = df_2"
   ]
  },
  {
   "cell_type": "code",
   "execution_count": 23,
   "metadata": {},
   "outputs": [],
   "source": [
    "set_flair = set(df['flair'])"
   ]
  },
  {
   "cell_type": "markdown",
   "metadata": {},
   "source": [
    "## PREPROCESSING"
   ]
  },
  {
   "cell_type": "markdown",
   "metadata": {},
   "source": [
    "#####  AS A PART OF PREPROCESSING\n",
    "NUMBERS , PUNCTUATIONS , EMOJIS , STOPWORDS WERE REMOVED FROM THE TEXT.\n",
    "LEMMATIZATION OF TEXT WAS DONE INSTEAD OF STEMMING. ALSO, TOKENIZATION OF DATA WAS ALSO DONE"
   ]
  },
  {
   "cell_type": "markdown",
   "metadata": {},
   "source": [
    "I USED REGULAR EXPRESSIONS & NLTK LIBRARY TO PREPROCESS THE DATA"
   ]
  },
  {
   "cell_type": "markdown",
   "metadata": {},
   "source": [
    "I prefered lemmatization over because stemmers reduce the word to its root form by removing the suffix and the result may or may not hold meaning whereas lemmatizatio resulted in meaniful root words."
   ]
  },
  {
   "cell_type": "markdown",
   "metadata": {},
   "source": [
    "I had to use these words to use glove embedding further in the process therefore the words had to meaningful moreove lemmatizers also keep track of synonyms therefore reducing the dimensionality"
   ]
  },
  {
   "cell_type": "code",
   "execution_count": 24,
   "metadata": {},
   "outputs": [],
   "source": [
    "def no_num(text):\n",
    "    text = re.sub('[0-9]+', '', text)\n",
    "    return text\n",
    "\n",
    "def no_punc(text):\n",
    "    #nopuncmsg = ''.join([c for c in text if c not in string.punctuation])\n",
    "    text = re.sub(r'[^\\w\\s]',' ',text)\n",
    "    text = re.sub(' +', ' ', text)\n",
    "    return text"
   ]
  },
  {
   "cell_type": "code",
   "execution_count": 25,
   "metadata": {},
   "outputs": [],
   "source": [
    "import nltk\n",
    "from nltk.corpus import stopwords\n",
    "from nltk.tokenize import word_tokenize\n",
    "from nltk.stem import PorterStemmer\n",
    "from nltk.stem import WordNetLemmatizer "
   ]
  },
  {
   "cell_type": "code",
   "execution_count": 26,
   "metadata": {},
   "outputs": [],
   "source": [
    "tokenized = []\n",
    "def tokenizer(text):\n",
    "    tokenized = word_tokenize(text)\n",
    "    return tokenized\n",
    "remov_stop_words = []\n",
    "def remov_stopwords(text):\n",
    "    remov_stop_words  =' '.join([c for c in text.split(' ') if c not in stopwords.words('english')])\n",
    "    return remov_stop_words\n",
    "def deEmojify(inputString):\n",
    "    return inputString.encode('ascii', 'ignore').decode('ascii')\n",
    "def func_lemmatizer(text):\n",
    "    lemmatized = []\n",
    "    lemmatizer = WordNetLemmatizer()\n",
    "    lemmatized = ' '.join( [ lemmatizer.lemmatize(word) for word in text] )\n",
    "    return lemmatized"
   ]
  },
  {
   "cell_type": "code",
   "execution_count": 27,
   "metadata": {},
   "outputs": [],
   "source": [
    "index_perm = np.random.permutation(df.index)"
   ]
  },
  {
   "cell_type": "code",
   "execution_count": 28,
   "metadata": {
    "scrolled": true
   },
   "outputs": [
    {
     "data": {
      "text/html": [
       "<div>\n",
       "<style scoped>\n",
       "    .dataframe tbody tr th:only-of-type {\n",
       "        vertical-align: middle;\n",
       "    }\n",
       "\n",
       "    .dataframe tbody tr th {\n",
       "        vertical-align: top;\n",
       "    }\n",
       "\n",
       "    .dataframe thead th {\n",
       "        text-align: right;\n",
       "    }\n",
       "</style>\n",
       "<table border=\"1\" class=\"dataframe\">\n",
       "  <thead>\n",
       "    <tr style=\"text-align: right;\">\n",
       "      <th></th>\n",
       "      <th>title</th>\n",
       "      <th>flair</th>\n",
       "    </tr>\n",
       "  </thead>\n",
       "  <tbody>\n",
       "    <tr>\n",
       "      <th>0</th>\n",
       "      <td>Coughing cat meme know your meme | FoxyDoor.Com</td>\n",
       "      <td>Business/Finance</td>\n",
       "    </tr>\n",
       "    <tr>\n",
       "      <th>1</th>\n",
       "      <td>Online Food Delivery- IRCTC eCatering Travel Food Services India</td>\n",
       "      <td>Food</td>\n",
       "    </tr>\n",
       "    <tr>\n",
       "      <th>2</th>\n",
       "      <td>Economic Times on Twitter: \"#DelhiPolice seeks permission from the #Delhi Govt to convert a stad...</td>\n",
       "      <td>CAA-NRC</td>\n",
       "    </tr>\n",
       "    <tr>\n",
       "      <th>3</th>\n",
       "      <td>Will the Bihar BJP also be called ‘anti-national’ for resolution against the NRC?</td>\n",
       "      <td>CAA-NRC</td>\n",
       "    </tr>\n",
       "    <tr>\n",
       "      <th>4</th>\n",
       "      <td>Coronavirus update: India quarantines itself from world for a month to fight coronavirus | India...</td>\n",
       "      <td>Non-Political</td>\n",
       "    </tr>\n",
       "    <tr>\n",
       "      <th>5</th>\n",
       "      <td>Pakistan groups trying to send 200 terrorists - Around 160 terrorists of the Lashkar-e-Taiba (Le...</td>\n",
       "      <td>Politics</td>\n",
       "    </tr>\n",
       "    <tr>\n",
       "      <th>6</th>\n",
       "      <td>[OC] DJI Mavic Mini, 2.7k 30fps, Thiruvanmiyur</td>\n",
       "      <td>Photography</td>\n",
       "    </tr>\n",
       "    <tr>\n",
       "      <th>7</th>\n",
       "      <td>Sunrise over a Goan suburb on the 21st day of the nationwide lockdown : 1193 recovered cases [35...</td>\n",
       "      <td>Photography</td>\n",
       "    </tr>\n",
       "    <tr>\n",
       "      <th>8</th>\n",
       "      <td>Mumbai Police on Today's Horoscope</td>\n",
       "      <td>Coronavirus</td>\n",
       "    </tr>\n",
       "    <tr>\n",
       "      <th>9</th>\n",
       "      <td>Is Ghee The Reason Most of the Indians have Round Belly?</td>\n",
       "      <td>AskIndia</td>\n",
       "    </tr>\n",
       "    <tr>\n",
       "      <th>10</th>\n",
       "      <td>Are you interested to explore the mesmerizing World of Science? Stay tuned YouTube.com/SkilledIn...</td>\n",
       "      <td>Science/Technology</td>\n",
       "    </tr>\n",
       "    <tr>\n",
       "      <th>11</th>\n",
       "      <td>Something we urgently need to learn from chinese eating habits.</td>\n",
       "      <td>Politics</td>\n",
       "    </tr>\n",
       "    <tr>\n",
       "      <th>12</th>\n",
       "      <td>Selling Gold Without Hallmark Can Land You In Jail From 2021</td>\n",
       "      <td>Policy/Economy</td>\n",
       "    </tr>\n",
       "    <tr>\n",
       "      <th>13</th>\n",
       "      <td>Indian Supreme Court lifts RBI ban on trading in cryptocurrency</td>\n",
       "      <td>Business/Finance</td>\n",
       "    </tr>\n",
       "    <tr>\n",
       "      <th>14</th>\n",
       "      <td>I made very simple Covid India Tracker that can load fast even on Limited Rural Area Network</td>\n",
       "      <td>Coronavirus</td>\n",
       "    </tr>\n",
       "    <tr>\n",
       "      <th>15</th>\n",
       "      <td>Optoma Projector Installation and Setup in Hindi/Urdu</td>\n",
       "      <td>Science/Technology</td>\n",
       "    </tr>\n",
       "    <tr>\n",
       "      <th>16</th>\n",
       "      <td>COVID-19 coronavirus: Top 20 Most Affected Countries</td>\n",
       "      <td>Non-Political</td>\n",
       "    </tr>\n",
       "    <tr>\n",
       "      <th>17</th>\n",
       "      <td>Indian Govt Likely To Tax Google, Facebook, Netflix—Here’s How</td>\n",
       "      <td>Business/Finance</td>\n",
       "    </tr>\n",
       "    <tr>\n",
       "      <th>18</th>\n",
       "      <td>Somebody Animated this</td>\n",
       "      <td>Politics</td>\n",
       "    </tr>\n",
       "    <tr>\n",
       "      <th>19</th>\n",
       "      <td>ABP Maza(Marathi News) plays Antakshari during lockdown. Are they even serious? Translation : Lo...</td>\n",
       "      <td>AskIndia</td>\n",
       "    </tr>\n",
       "  </tbody>\n",
       "</table>\n",
       "</div>"
      ],
      "text/plain": [
       "                                                                                                  title  \\\n",
       "0                                                       Coughing cat meme know your meme | FoxyDoor.Com   \n",
       "1                                      Online Food Delivery- IRCTC eCatering Travel Food Services India   \n",
       "2   Economic Times on Twitter: \"#DelhiPolice seeks permission from the #Delhi Govt to convert a stad...   \n",
       "3                     Will the Bihar BJP also be called ‘anti-national’ for resolution against the NRC?   \n",
       "4   Coronavirus update: India quarantines itself from world for a month to fight coronavirus | India...   \n",
       "5   Pakistan groups trying to send 200 terrorists - Around 160 terrorists of the Lashkar-e-Taiba (Le...   \n",
       "6                                                        [OC] DJI Mavic Mini, 2.7k 30fps, Thiruvanmiyur   \n",
       "7   Sunrise over a Goan suburb on the 21st day of the nationwide lockdown : 1193 recovered cases [35...   \n",
       "8                                                                    Mumbai Police on Today's Horoscope   \n",
       "9                                              Is Ghee The Reason Most of the Indians have Round Belly?   \n",
       "10  Are you interested to explore the mesmerizing World of Science? Stay tuned YouTube.com/SkilledIn...   \n",
       "11                                      Something we urgently need to learn from chinese eating habits.   \n",
       "12                                         Selling Gold Without Hallmark Can Land You In Jail From 2021   \n",
       "13                                      Indian Supreme Court lifts RBI ban on trading in cryptocurrency   \n",
       "14         I made very simple Covid India Tracker that can load fast even on Limited Rural Area Network   \n",
       "15                                                Optoma Projector Installation and Setup in Hindi/Urdu   \n",
       "16                                                 COVID-19 coronavirus: Top 20 Most Affected Countries   \n",
       "17                                       Indian Govt Likely To Tax Google, Facebook, Netflix—Here’s How   \n",
       "18                                                                               Somebody Animated this   \n",
       "19  ABP Maza(Marathi News) plays Antakshari during lockdown. Are they even serious? Translation : Lo...   \n",
       "\n",
       "                 flair  \n",
       "0     Business/Finance  \n",
       "1                 Food  \n",
       "2              CAA-NRC  \n",
       "3              CAA-NRC  \n",
       "4        Non-Political  \n",
       "5             Politics  \n",
       "6          Photography  \n",
       "7          Photography  \n",
       "8          Coronavirus  \n",
       "9             AskIndia  \n",
       "10  Science/Technology  \n",
       "11            Politics  \n",
       "12      Policy/Economy  \n",
       "13    Business/Finance  \n",
       "14         Coronavirus  \n",
       "15  Science/Technology  \n",
       "16       Non-Political  \n",
       "17    Business/Finance  \n",
       "18            Politics  \n",
       "19            AskIndia  "
      ]
     },
     "execution_count": 28,
     "metadata": {},
     "output_type": "execute_result"
    }
   ],
   "source": [
    "df = df.sample(frac=1).reset_index(drop=True)\n",
    "df.head(20)"
   ]
  },
  {
   "cell_type": "code",
   "execution_count": 29,
   "metadata": {},
   "outputs": [],
   "source": [
    "text = df['title']"
   ]
  },
  {
   "cell_type": "code",
   "execution_count": 30,
   "metadata": {},
   "outputs": [],
   "source": [
    "def preprocessor(text):\n",
    "    text = text.str.lower()\n",
    "    text = text.apply(no_num)\n",
    "    text = text.apply(no_punc)\n",
    "    text = text.apply(remov_stopwords)\n",
    "    text = text.apply(deEmojify)\n",
    "    text = text.apply(tokenizer)\n",
    "    text = text.apply(func_lemmatizer)\n",
    "    return text"
   ]
  },
  {
   "cell_type": "code",
   "execution_count": 31,
   "metadata": {},
   "outputs": [
    {
     "data": {
      "text/html": [
       "<div>\n",
       "<style scoped>\n",
       "    .dataframe tbody tr th:only-of-type {\n",
       "        vertical-align: middle;\n",
       "    }\n",
       "\n",
       "    .dataframe tbody tr th {\n",
       "        vertical-align: top;\n",
       "    }\n",
       "\n",
       "    .dataframe thead th {\n",
       "        text-align: right;\n",
       "    }\n",
       "</style>\n",
       "<table border=\"1\" class=\"dataframe\">\n",
       "  <thead>\n",
       "    <tr style=\"text-align: right;\">\n",
       "      <th></th>\n",
       "      <th>title</th>\n",
       "      <th>flair</th>\n",
       "    </tr>\n",
       "  </thead>\n",
       "  <tbody>\n",
       "    <tr>\n",
       "      <th>0</th>\n",
       "      <td>coughing cat meme know meme foxydoor com</td>\n",
       "      <td>Business/Finance</td>\n",
       "    </tr>\n",
       "    <tr>\n",
       "      <th>1</th>\n",
       "      <td>online food delivery irctc ecatering travel food service india</td>\n",
       "      <td>Food</td>\n",
       "    </tr>\n",
       "    <tr>\n",
       "      <th>2</th>\n",
       "      <td>economic time twitter delhipolice seek permission delhi govt convert stadium temporary prison an...</td>\n",
       "      <td>CAA-NRC</td>\n",
       "    </tr>\n",
       "    <tr>\n",
       "      <th>3</th>\n",
       "      <td>bihar bjp also called anti national resolution nrc</td>\n",
       "      <td>CAA-NRC</td>\n",
       "    </tr>\n",
       "    <tr>\n",
       "      <th>4</th>\n",
       "      <td>coronavirus update india quarantine world month fight coronavirus india news time india</td>\n",
       "      <td>Non-Political</td>\n",
       "    </tr>\n",
       "    <tr>\n",
       "      <th>...</th>\n",
       "      <td>...</td>\n",
       "      <td>...</td>\n",
       "    </tr>\n",
       "    <tr>\n",
       "      <th>19995</th>\n",
       "      <td>covid patient go kerala govt release map</td>\n",
       "      <td>Policy/Economy</td>\n",
       "    </tr>\n",
       "    <tr>\n",
       "      <th>19996</th>\n",
       "      <td>kashmir govt slash salary college contractual lecturer percent</td>\n",
       "      <td>Policy/Economy</td>\n",
       "    </tr>\n",
       "    <tr>\n",
       "      <th>19997</th>\n",
       "      <td>hand roll roti feed poor</td>\n",
       "      <td>Food</td>\n",
       "    </tr>\n",
       "    <tr>\n",
       "      <th>19998</th>\n",
       "      <td>government compensate daily wage earner loss due coronavirus</td>\n",
       "      <td>Coronavirus</td>\n",
       "    </tr>\n",
       "    <tr>\n",
       "      <th>19999</th>\n",
       "      <td>patiala punjab dec</td>\n",
       "      <td>Photography</td>\n",
       "    </tr>\n",
       "  </tbody>\n",
       "</table>\n",
       "<p>20000 rows × 2 columns</p>\n",
       "</div>"
      ],
      "text/plain": [
       "                                                                                                     title  \\\n",
       "0                                                                 coughing cat meme know meme foxydoor com   \n",
       "1                                           online food delivery irctc ecatering travel food service india   \n",
       "2      economic time twitter delhipolice seek permission delhi govt convert stadium temporary prison an...   \n",
       "3                                                       bihar bjp also called anti national resolution nrc   \n",
       "4                  coronavirus update india quarantine world month fight coronavirus india news time india   \n",
       "...                                                                                                    ...   \n",
       "19995                                                             covid patient go kerala govt release map   \n",
       "19996                                       kashmir govt slash salary college contractual lecturer percent   \n",
       "19997                                                                             hand roll roti feed poor   \n",
       "19998                                         government compensate daily wage earner loss due coronavirus   \n",
       "19999                                                                                   patiala punjab dec   \n",
       "\n",
       "                  flair  \n",
       "0      Business/Finance  \n",
       "1                  Food  \n",
       "2               CAA-NRC  \n",
       "3               CAA-NRC  \n",
       "4         Non-Political  \n",
       "...                 ...  \n",
       "19995    Policy/Economy  \n",
       "19996    Policy/Economy  \n",
       "19997              Food  \n",
       "19998       Coronavirus  \n",
       "19999       Photography  \n",
       "\n",
       "[20000 rows x 2 columns]"
      ]
     },
     "execution_count": 31,
     "metadata": {},
     "output_type": "execute_result"
    }
   ],
   "source": [
    "text = preprocessor(df['title'])\n",
    "df['title'] = text\n",
    "df"
   ]
  },
  {
   "cell_type": "markdown",
   "metadata": {},
   "source": [
    "##### I MADE MY OWN DICTIONARY WHICH WAS FURTHER USED IN BUILDING LSTM LANGUAGE MODEL. THE MODEL SCRAPES THROUGH THE WHOLE TEXT AND ASSIGNS AN INDEX TO EACH UNIQUE WORD & ALSO MANTAING THE WORD COUNT"
   ]
  },
  {
   "cell_type": "code",
   "execution_count": 32,
   "metadata": {},
   "outputs": [],
   "source": [
    "SOS_token = 0\n",
    "EOS_token = 1\n",
    "word2count = {}\n",
    "word2index = {}\n",
    "index2word = {}\n",
    "n_words =  [0]"
   ]
  },
  {
   "cell_type": "code",
   "execution_count": 33,
   "metadata": {},
   "outputs": [],
   "source": [
    "def addword(word , n_words , word2count , word2index , index2word ):\n",
    "    if word not in word2index:\n",
    "        word2index[word] = n_words[0]\n",
    "        index2word[ n_words[0] ] = word\n",
    "        word2count[word] = 1\n",
    "        n_words[0] = n_words[0] + 1\n",
    "    else:\n",
    "        word2count[word] +=1\n",
    "\n",
    "def addtext( sentence ,n_words , word2count , word2index , index2word ):\n",
    "        for word in sentence.split(' '):\n",
    "            addword(word , n_words , word2count , word2index , index2word )"
   ]
  },
  {
   "cell_type": "code",
   "execution_count": 34,
   "metadata": {},
   "outputs": [],
   "source": [
    "df_1 = df.copy()\n",
    "df_1['title'] = df_1['title'].apply( addtext , args = (n_words , word2count , word2index , index2word) )"
   ]
  },
  {
   "cell_type": "code",
   "execution_count": 35,
   "metadata": {},
   "outputs": [
    {
     "data": {
      "text/plain": [
       "15490"
      ]
     },
     "execution_count": 35,
     "metadata": {},
     "output_type": "execute_result"
    }
   ],
   "source": [
    "len(word2index)"
   ]
  },
  {
   "cell_type": "markdown",
   "metadata": {},
   "source": [
    "#### SEPERATE DICTIONARY FOR FLAIRS"
   ]
  },
  {
   "cell_type": "code",
   "execution_count": 36,
   "metadata": {},
   "outputs": [],
   "source": [
    "index2flair={}\n",
    "flair2index ={}\n",
    "for k , flair in enumerate(set(df['flair'])):\n",
    "    index2flair[k] = flair\n",
    "    flair2index[flair] = k"
   ]
  },
  {
   "cell_type": "code",
   "execution_count": 37,
   "metadata": {},
   "outputs": [
    {
     "data": {
      "text/plain": [
       "{'AskIndia': 0,\n",
       " 'Policy/Economy': 1,\n",
       " 'Business/Finance': 2,\n",
       " 'Photography': 3,\n",
       " 'Politics': 4,\n",
       " 'Coronavirus': 5,\n",
       " 'Science/Technology': 6,\n",
       " 'Non-Political': 7,\n",
       " 'CAA-NRC': 8,\n",
       " 'Food': 9}"
      ]
     },
     "execution_count": 37,
     "metadata": {},
     "output_type": "execute_result"
    }
   ],
   "source": [
    "flair2index"
   ]
  },
  {
   "cell_type": "markdown",
   "metadata": {},
   "source": [
    "## ML MODELS"
   ]
  },
  {
   "cell_type": "code",
   "execution_count": 38,
   "metadata": {},
   "outputs": [],
   "source": [
    "from sklearn.feature_extraction.text import CountVectorizer , TfidfVectorizer , TfidfTransformer\n",
    "from sklearn.model_selection import train_test_split\n",
    "from sklearn.naive_bayes import GaussianNB , MultinomialNB\n",
    "from sklearn.metrics import confusion_matrix\n",
    "from sklearn.tree import DecisionTreeClassifier\n",
    "from sklearn.ensemble import RandomForestClassifier\n",
    "from sklearn import model_selection, linear_model, metrics"
   ]
  },
  {
   "cell_type": "code",
   "execution_count": 39,
   "metadata": {},
   "outputs": [],
   "source": [
    "target_index = []\n",
    "target_names = []"
   ]
  },
  {
   "cell_type": "code",
   "execution_count": 40,
   "metadata": {},
   "outputs": [],
   "source": [
    "for flair in df['flair']:\n",
    "    target_index.append(flair2index[str(flair)])\n",
    "    target_names.append(flair)"
   ]
  },
  {
   "cell_type": "code",
   "execution_count": 41,
   "metadata": {},
   "outputs": [],
   "source": [
    "corpus = []\n",
    "for title in df['title']:\n",
    "    corpus.append(title)"
   ]
  },
  {
   "cell_type": "markdown",
   "metadata": {},
   "source": [
    "#### SPLITTING DATA FOR TESTING AND TRAINING . I TOOK ONLY 20% DATA AS TESTING DATA. AS I ALREADY HAD LESS DATA"
   ]
  },
  {
   "cell_type": "code",
   "execution_count": 42,
   "metadata": {},
   "outputs": [],
   "source": [
    "train_x , test_x , train_y , test_y = train_test_split(corpus , target_names , test_size = 0.2)"
   ]
  },
  {
   "cell_type": "markdown",
   "metadata": {},
   "source": [
    "### COUNTER VECTORIZER"
   ]
  },
  {
   "cell_type": "markdown",
   "metadata": {},
   "source": [
    "IS A LIBRARY WHICH GIVES A DICTIONARY , VOCABULARY , WORD COUNTS OF THE CORPUS(INPUT) AS OUTPUT."
   ]
  },
  {
   "cell_type": "code",
   "execution_count": 43,
   "metadata": {},
   "outputs": [
    {
     "name": "stdout",
     "output_type": "stream",
     "text": [
      "(16000, 14242)\n"
     ]
    }
   ],
   "source": [
    "cv = CountVectorizer()\n",
    "X = cv.fit(train_x)\n",
    "#X.vocabulary\n",
    "#X.get_feature_names()\n",
    "counts = cv.transform(train_x)\n",
    "print(counts.shape)\n",
    "#counts.toarray()"
   ]
  },
  {
   "cell_type": "markdown",
   "metadata": {},
   "source": [
    "##### I USED PICKLE TO SAVE THE TRAINED MODEL & LOAD IT WHEN REQUIRED."
   ]
  },
  {
   "cell_type": "code",
   "execution_count": 44,
   "metadata": {},
   "outputs": [],
   "source": [
    "Pkl_Filename = \"Pickle_CV_Model.pkl\"  \n",
    "\n",
    "with open(Pkl_Filename, 'wb') as file:  \n",
    "    pickle.dump(cv, file)"
   ]
  },
  {
   "cell_type": "markdown",
   "metadata": {},
   "source": [
    "### TFIDF TRANSFORMER"
   ]
  },
  {
   "cell_type": "markdown",
   "metadata": {},
   "source": [
    "ASSIGNS WEIGHTS TO THE WORDS ACCORDING TO THEIR FREQUENCY IN THE TEXT.\n",
    "SO IF STOP WORDS LEFT WILL BE GIVEN THE MOST WEIGHTAGE"
   ]
  },
  {
   "cell_type": "code",
   "execution_count": 45,
   "metadata": {
    "scrolled": true
   },
   "outputs": [
    {
     "name": "stdout",
     "output_type": "stream",
     "text": [
      "learning frequency of all features :[9.98725932 9.98725932 9.98725932 ... 9.98725932 9.98725932 9.98725932]\n",
      "\n",
      "\n",
      "[[0. 0. 0. ... 0. 0. 0.]\n",
      " [0. 0. 0. ... 0. 0. 0.]\n",
      " [0. 0. 0. ... 0. 0. 0.]\n",
      " ...\n",
      " [0. 0. 0. ... 0. 0. 0.]\n",
      " [0. 0. 0. ... 0. 0. 0.]\n",
      " [0. 0. 0. ... 0. 0. 0.]]\n"
     ]
    }
   ],
   "source": [
    "tf = TfidfTransformer()\n",
    "X_tfidf = tf.fit_transform(counts)\n",
    "print('learning frequency of all features :' + str(tf.idf_) + '\\n\\n')\n",
    "freq = tf.transform(counts)\n",
    "print(freq.toarray())"
   ]
  },
  {
   "cell_type": "markdown",
   "metadata": {},
   "source": [
    "##### SAVING THE TFIDF MODEL ON PICKLE"
   ]
  },
  {
   "cell_type": "code",
   "execution_count": 46,
   "metadata": {},
   "outputs": [],
   "source": [
    "Pkl_Filename = \"Pickle_TF_Model.pkl\"  \n",
    "\n",
    "with open(Pkl_Filename, 'wb') as file:  \n",
    "    pickle.dump(tf, file)"
   ]
  },
  {
   "cell_type": "markdown",
   "metadata": {},
   "source": [
    "#### I TRIED TO PREDICT WHICH MODEL WILL WORK BETTER ON THE FOLLOWING DATA"
   ]
  },
  {
   "cell_type": "code",
   "execution_count": 47,
   "metadata": {},
   "outputs": [
    {
     "data": {
      "image/png": "[encoded data removed]",
      "text/plain": [
       "<Figure size 432x288 with 1 Axes>"
      ]
     },
     "metadata": {
      "needs_background": "light"
     },
     "output_type": "display_data"
    }
   ],
   "source": [
    "from sklearn.linear_model import LogisticRegression\n",
    "from sklearn.ensemble import RandomForestClassifier\n",
    "from sklearn.svm import LinearSVC\n",
    "from sklearn.model_selection import cross_val_score\n",
    "\n",
    "models = [\n",
    "    RandomForestClassifier(n_estimators=200, max_depth=3, random_state=0),\n",
    "    LinearSVC(),\n",
    "    MultinomialNB(),\n",
    "    LogisticRegression(random_state=0 , max_iter = 5000),\n",
    "]\n",
    "CV = 5\n",
    "cv_df = pd.DataFrame(index=range(CV * len(models)))\n",
    "entries = []\n",
    "for model in models:\n",
    "    model_name = model.__class__.__name__\n",
    "    accuracies = cross_val_score(model, X_tfidf, train_y, scoring='accuracy', cv=CV)\n",
    "    for fold_idx, accuracy in enumerate(accuracies):\n",
    "        entries.append((model_name, fold_idx, accuracy))\n",
    "cv_df = pd.DataFrame(entries, columns=['model_name', 'fold_idx', 'accuracy'])\n",
    "import seaborn as sns\n",
    "sns.boxplot(x='model_name', y='accuracy', data=cv_df)\n",
    "sns.stripplot(x='model_name', y='accuracy', data=cv_df, size=8, jitter=True, edgecolor=\"gray\", linewidth=2)\n",
    "plt.show()"
   ]
  },
  {
   "cell_type": "code",
   "execution_count": 48,
   "metadata": {},
   "outputs": [
    {
     "data": {
      "text/plain": [
       "model_name\n",
       "LinearSVC                 0.650563\n",
       "LogisticRegression        0.623250\n",
       "MultinomialNB             0.612625\n",
       "RandomForestClassifier    0.403625\n",
       "Name: accuracy, dtype: float64"
      ]
     },
     "execution_count": 48,
     "metadata": {},
     "output_type": "execute_result"
    }
   ],
   "source": [
    "cv_df.groupby('model_name').accuracy.mean()"
   ]
  },
  {
   "cell_type": "markdown",
   "metadata": {},
   "source": [
    "### LOGISTIC REGRESSION"
   ]
  },
  {
   "cell_type": "markdown",
   "metadata": {},
   "source": [
    "ASSGNS OBSERVATIONS FOR DISCRETE CLASSES .\n",
    "IT IS BASED ON STATISTICAL APPROACHES & IS VULNERABLE TO OVERFITTING BECAUSE OF IT"
   ]
  },
  {
   "cell_type": "code",
   "execution_count": 49,
   "metadata": {},
   "outputs": [
    {
     "name": "stdout",
     "output_type": "stream",
     "text": [
      "accuracy :  0.64025\n",
      "                    precision    recall  f1-score   support\n",
      "\n",
      "          AskIndia       0.44      0.39      0.42       393\n",
      "    Policy/Economy       0.70      0.71      0.70       387\n",
      "  Business/Finance       0.75      0.83      0.79       412\n",
      "       Photography       0.58      0.61      0.59       399\n",
      "           CAA-NRC       0.86      0.90      0.88       394\n",
      "          Politics       0.32      0.27      0.30       403\n",
      "       Coronavirus       0.74      0.84      0.79       393\n",
      "Science/Technology       0.67      0.65      0.66       424\n",
      "     Non-Political       0.57      0.49      0.53       408\n",
      "              Food       0.64      0.72      0.68       387\n",
      "\n",
      "          accuracy                           0.64      4000\n",
      "         macro avg       0.63      0.64      0.63      4000\n",
      "      weighted avg       0.63      0.64      0.63      4000\n",
      "\n"
     ]
    },
    {
     "data": {
      "text/plain": [
       "array([[154,  25,   5,  36,  12,  58,  15,  20,  30,  38],\n",
       "       [ 19, 273,   1,  13,   5,  16,   7,  25,   5,  23],\n",
       "       [ 13,   6, 341,   0,   2,  15,   1,   3,  29,   2],\n",
       "       [ 27,   5,   6, 242,   8,  41,  12,  15,  22,  21],\n",
       "       [  7,   1,   2,   4, 354,   1,  12,   2,   5,   6],\n",
       "       [ 60,  16,  19,  52,   9, 110,  47,  25,  29,  36],\n",
       "       [  9,   7,   4,  11,   2,  15, 331,   4,   7,   3],\n",
       "       [ 14,  33,  10,  29,   4,  23,   2, 276,  18,  15],\n",
       "       [ 19,   8,  66,  18,   7,  40,  14,  24, 201,  11],\n",
       "       [ 26,  14,   1,  10,   9,  23,   5,  15,   5, 279]])"
      ]
     },
     "execution_count": 49,
     "metadata": {},
     "output_type": "execute_result"
    }
   ],
   "source": [
    "lr = LogisticRegression(max_iter = 5000)\n",
    "x_lr = lr.fit(X_tfidf, train_y)\n",
    "x_test_tf = cv.transform(test_x)\n",
    "x_test_tfidf = tf.transform(x_test_tf)\n",
    "predicted = lr.predict(x_test_tfidf)\n",
    "print(\"accuracy : \", accuracy_score(test_y,predicted) )\n",
    "print(metrics.classification_report(test_y,predicted , target_names = set_flair))\n",
    "metrics.confusion_matrix(test_y , predicted)"
   ]
  },
  {
   "cell_type": "code",
   "execution_count": 50,
   "metadata": {},
   "outputs": [
    {
     "data": {
      "text/plain": [
       "<matplotlib.axes._subplots.AxesSubplot at 0x7f0be1bf7910>"
      ]
     },
     "execution_count": 50,
     "metadata": {},
     "output_type": "execute_result"
    },
    {
     "data": {
      "image/png": "[encoded data removed]",
      "text/plain": [
       "<Figure size 720x504 with 2 Axes>"
      ]
     },
     "metadata": {
      "needs_background": "light"
     },
     "output_type": "display_data"
    }
   ],
   "source": [
    "from sklearn.metrics import confusion_matrix\n",
    "import seaborn as sn\n",
    "import matplotlib.pyplot as plt\n",
    "%matplotlib inline\n",
    "import numpy as np\n",
    "\n",
    "\n",
    "\n",
    "data = confusion_matrix(test_y, predicted)\n",
    "df_cm = pd.DataFrame(data, columns=np.unique(test_y), index = np.unique(test_y))\n",
    "df_cm.index.name = 'Actual'\n",
    "df_cm.columns.name = 'Predicted'\n",
    "plt.figure(figsize = (10,7))\n",
    "sn.set(font_scale=1.4)#for label size\n",
    "sn.heatmap(df_cm, cmap=\"Blues\", annot=True,annot_kws={\"size\": 16})#"
   ]
  },
  {
   "cell_type": "markdown",
   "metadata": {},
   "source": [
    "##### THE FOLLOWING GRAPHS SHOWS THE CONFUSION MATRIX OF THE ACTUAL RESULTS & PREDICTIONS"
   ]
  },
  {
   "cell_type": "markdown",
   "metadata": {},
   "source": [
    "###  MULTINOMIAL NAIVE BAYES"
   ]
  },
  {
   "cell_type": "markdown",
   "metadata": {},
   "source": [
    "I STARTED WITH NAIVE BAYES AS BASE MODEL FOR CLASSIFICATION. \n",
    "NAIVE BAYES IS A PROBABILISTIC APPROACH AND CONSIDERS EVERY FEATURE INDEPENDENT OF THE OTHER. "
   ]
  },
  {
   "cell_type": "code",
   "execution_count": 51,
   "metadata": {},
   "outputs": [],
   "source": [
    "clf = MultinomialNB().fit(X_tfidf,train_y)"
   ]
  },
  {
   "cell_type": "code",
   "execution_count": 52,
   "metadata": {},
   "outputs": [],
   "source": [
    "Pkl_Filename = \"Pickle_NB_Model.pkl\"  \n",
    "\n",
    "with open(Pkl_Filename, 'wb') as file:  \n",
    "    pickle.dump(clf, file)"
   ]
  },
  {
   "cell_type": "code",
   "execution_count": 53,
   "metadata": {},
   "outputs": [],
   "source": [
    "set_flair = []\n",
    "for f in set(test_y):\n",
    "    set_flair.append(f)"
   ]
  },
  {
   "cell_type": "code",
   "execution_count": 54,
   "metadata": {},
   "outputs": [],
   "source": [
    "x_test_tf = cv.transform(test_x)\n",
    "x_test_tfidf = tf.transform(x_test_tf)\n",
    "predicted = clf.predict(x_test_tfidf)"
   ]
  },
  {
   "cell_type": "code",
   "execution_count": 55,
   "metadata": {
    "scrolled": true
   },
   "outputs": [
    {
     "name": "stdout",
     "output_type": "stream",
     "text": [
      "accuracy :  0.62875\n",
      "                    precision    recall  f1-score   support\n",
      "\n",
      "          AskIndia       0.46      0.39      0.42       393\n",
      "    Policy/Economy       0.61      0.72      0.66       387\n",
      "       Photography       0.65      0.85      0.74       412\n",
      "  Business/Finance       0.53      0.68      0.60       399\n",
      "          Politics       0.80      0.90      0.85       394\n",
      "       Coronavirus       0.45      0.16      0.23       403\n",
      "Science/Technology       0.75      0.83      0.79       393\n",
      "     Non-Political       0.64      0.63      0.64       424\n",
      "           CAA-NRC       0.56      0.43      0.49       408\n",
      "              Food       0.66      0.70      0.68       387\n",
      "\n",
      "          accuracy                           0.63      4000\n",
      "         macro avg       0.61      0.63      0.61      4000\n",
      "      weighted avg       0.61      0.63      0.61      4000\n",
      "\n"
     ]
    },
    {
     "data": {
      "text/plain": [
       "array([[154,  40,  12,  52,  12,  24,  15,  20,  33,  31],\n",
       "       [ 16, 277,   1,  14,  11,   6,   9,  28,   5,  20],\n",
       "       [  9,  10, 352,   1,   4,   4,   3,   6,  22,   1],\n",
       "       [ 23,  11,  16, 270,  10,  10,   8,  17,  16,  18],\n",
       "       [ 13,   2,   1,  10, 354,   0,   6,   2,   2,   4],\n",
       "       [ 59,  21,  35,  71,  15,  63,  44,  24,  38,  33],\n",
       "       [  8,  12,   9,   9,  14,   3, 328,   2,   3,   5],\n",
       "       [ 16,  47,  16,  32,   3,   8,   2, 269,  15,  16],\n",
       "       [ 17,  11,  99,  26,   6,  16,  14,  31, 177,  11],\n",
       "       [ 22,  24,   0,  20,  12,   6,   9,  19,   4, 271]])"
      ]
     },
     "execution_count": 55,
     "metadata": {},
     "output_type": "execute_result"
    }
   ],
   "source": [
    "print(\"accuracy : \", accuracy_score(test_y,predicted) )\n",
    "print(metrics.classification_report(test_y,predicted , target_names = set_flair))\n",
    "metrics.confusion_matrix(test_y , predicted)"
   ]
  },
  {
   "cell_type": "code",
   "execution_count": 56,
   "metadata": {},
   "outputs": [
    {
     "data": {
      "text/plain": [
       "<matplotlib.axes._subplots.AxesSubplot at 0x7f0be8acab50>"
      ]
     },
     "execution_count": 56,
     "metadata": {},
     "output_type": "execute_result"
    },
    {
     "data": {
      "image/png": "[encoded data removed]",
      "text/plain": [
       "<Figure size 720x504 with 2 Axes>"
      ]
     },
     "metadata": {},
     "output_type": "display_data"
    }
   ],
   "source": [
    "data = confusion_matrix(test_y, predicted)\n",
    "df_cm = pd.DataFrame(data, columns=np.unique(test_y), index = np.unique(test_y))\n",
    "df_cm.index.name = 'Actual'\n",
    "df_cm.columns.name = 'Predicted'\n",
    "plt.figure(figsize = (10,7))\n",
    "sn.set(font_scale=1.4)#for label size\n",
    "sn.heatmap(df_cm, cmap=\"Blues\", annot=True,annot_kws={\"size\": 16})#"
   ]
  },
  {
   "cell_type": "markdown",
   "metadata": {},
   "source": [
    "##### THE FOLLOWING GRAPHS SHOWS THE CONFUSION MATRIX OF THE ACTUAL RESULTS & PREDICTIONS"
   ]
  },
  {
   "cell_type": "markdown",
   "metadata": {},
   "source": [
    "### Linear SVM"
   ]
  },
  {
   "cell_type": "markdown",
   "metadata": {},
   "source": [
    "SUPPORT VECTOR MACHINE IS A GEOMETRIC APPROACH AND CONSIDERS ALL FEATURES DEPENDENT TO EACH OTHER. HENCE , IT CONSIDERS THE RELATION BETWEEN DIFFERENT FEATURES & HENCE IMPROVING THE RESULT"
   ]
  },
  {
   "cell_type": "code",
   "execution_count": 57,
   "metadata": {},
   "outputs": [],
   "source": [
    "lsvm = LinearSVC().fit(X_tfidf, train_y)"
   ]
  },
  {
   "cell_type": "code",
   "execution_count": 58,
   "metadata": {},
   "outputs": [],
   "source": [
    "x_test_tf = cv.transform(test_x)\n",
    "x_test_tfidf = tf.transform(x_test_tf)\n",
    "predicted = lsvm.predict(x_test_tfidf)"
   ]
  },
  {
   "cell_type": "code",
   "execution_count": 59,
   "metadata": {
    "scrolled": true
   },
   "outputs": [
    {
     "name": "stdout",
     "output_type": "stream",
     "text": [
      "accuracy :  0.67975\n",
      "                    precision    recall  f1-score   support\n",
      "\n",
      "          AskIndia       0.48      0.38      0.42       393\n",
      "    Policy/Economy       0.75      0.82      0.78       387\n",
      "       Photography       0.77      0.91      0.84       412\n",
      "  Business/Finance       0.59      0.58      0.58       399\n",
      "          Politics       0.89      0.96      0.92       394\n",
      "       Coronavirus       0.33      0.25      0.29       403\n",
      "Science/Technology       0.80      0.91      0.85       393\n",
      "     Non-Political       0.72      0.76      0.74       424\n",
      "           CAA-NRC       0.58      0.46      0.51       408\n",
      "              Food       0.69      0.79      0.73       387\n",
      "\n",
      "          accuracy                           0.68      4000\n",
      "         macro avg       0.66      0.68      0.67      4000\n",
      "      weighted avg       0.66      0.68      0.67      4000\n",
      "\n"
     ]
    },
    {
     "data": {
      "text/plain": [
       "array([[148,  26,   7,  41,   8,  56,  14,  20,  34,  39],\n",
       "       [ 13, 316,   0,   7,   3,  11,   5,  17,   4,  11],\n",
       "       [ 12,   2, 374,   0,   0,   7,   0,   4,  11,   2],\n",
       "       [ 28,   9,   9, 230,   8,  43,   6,  22,  24,  20],\n",
       "       [  2,   1,   0,   2, 377,   0,   2,   0,   2,   8],\n",
       "       [ 58,  21,  21,  55,  11, 102,  36,  29,  35,  35],\n",
       "       [  6,   1,   2,   5,   1,  11, 358,   1,   7,   1],\n",
       "       [ 10,  18,   5,  18,   2,  24,   2, 321,  12,  12],\n",
       "       [ 21,  17,  63,  21,   5,  42,  17,  23, 187,  12],\n",
       "       [ 12,  10,   2,  13,   8,  16,   5,  10,   5, 306]])"
      ]
     },
     "execution_count": 59,
     "metadata": {},
     "output_type": "execute_result"
    }
   ],
   "source": [
    "print(\"accuracy : \", accuracy_score(test_y,predicted) )\n",
    "print(metrics.classification_report(test_y,predicted , target_names = set_flair))\n",
    "metrics.confusion_matrix(test_y , predicted)"
   ]
  },
  {
   "cell_type": "code",
   "execution_count": 60,
   "metadata": {},
   "outputs": [],
   "source": [
    "Pkl_Filename = \"Pickle_SVM_Model.pkl\"  \n",
    "\n",
    "with open(Pkl_Filename, 'wb') as file:\n",
    "    pickle.dump(lsvm, file)"
   ]
  },
  {
   "cell_type": "code",
   "execution_count": 61,
   "metadata": {},
   "outputs": [
    {
     "data": {
      "text/plain": [
       "<matplotlib.axes._subplots.AxesSubplot at 0x7f0be81538d0>"
      ]
     },
     "execution_count": 61,
     "metadata": {},
     "output_type": "execute_result"
    },
    {
     "data": {
      "image/png": "[encoded data removed]",
      "text/plain": [
       "<Figure size 720x504 with 2 Axes>"
      ]
     },
     "metadata": {},
     "output_type": "display_data"
    }
   ],
   "source": [
    "data = confusion_matrix(test_y, predicted)\n",
    "df_cm = pd.DataFrame(data, columns=np.unique(test_y), index = np.unique(test_y))\n",
    "df_cm.index.name = 'Actual'\n",
    "df_cm.columns.name = 'Predicted'\n",
    "plt.figure(figsize = (10,7))\n",
    "sn.set(font_scale=1.4)#for label size\n",
    "sn.heatmap(df_cm, cmap=\"Blues\", annot=True,annot_kws={\"size\": 16})#"
   ]
  },
  {
   "cell_type": "markdown",
   "metadata": {},
   "source": [
    "##### THE FOLLOWING GRAPHS SHOWS THE CONFUSION MATRIX OF THE ACTUAL RESULTS & PREDICTIONS"
   ]
  },
  {
   "cell_type": "markdown",
   "metadata": {},
   "source": [
    "### RANDOM FOREST MODEL"
   ]
  },
  {
   "cell_type": "markdown",
   "metadata": {},
   "source": [
    "FOR EXPLAINABILITY AS RFC MODELS MEASURE THE WEIGHTAGE OF EACH WORD FOR EACH CLASS .  THEREFORE , ACCURACY OF THIS MODEL IS MANY TIMES BETTER."
   ]
  },
  {
   "cell_type": "code",
   "execution_count": 62,
   "metadata": {
    "scrolled": true
   },
   "outputs": [
    {
     "data": {
      "text/plain": [
       "RandomForestClassifier(bootstrap=True, ccp_alpha=0.0, class_weight=None,\n",
       "                       criterion='gini', max_depth=None, max_features='auto',\n",
       "                       max_leaf_nodes=None, max_samples=None,\n",
       "                       min_impurity_decrease=0.0, min_impurity_split=None,\n",
       "                       min_samples_leaf=1, min_samples_split=2,\n",
       "                       min_weight_fraction_leaf=0.0, n_estimators=100,\n",
       "                       n_jobs=None, oob_score=False, random_state=None,\n",
       "                       verbose=0, warm_start=False)"
      ]
     },
     "execution_count": 62,
     "metadata": {},
     "output_type": "execute_result"
    }
   ],
   "source": [
    "cv = CountVectorizer()\n",
    "rfc_x = cv.fit_transform(train_x)\n",
    "rfc= RandomForestClassifier()\n",
    "rfc.fit(rfc_x, train_y)"
   ]
  },
  {
   "cell_type": "code",
   "execution_count": 63,
   "metadata": {},
   "outputs": [
    {
     "name": "stdout",
     "output_type": "stream",
     "text": [
      "accuracy :  0.67675\n",
      "                    precision    recall  f1-score   support\n",
      "\n",
      "          AskIndia       0.43      0.37      0.40       393\n",
      "    Policy/Economy       0.77      0.84      0.80       387\n",
      "       Photography       0.73      0.92      0.81       412\n",
      "  Business/Finance       0.58      0.57      0.58       399\n",
      "          Politics       0.88      0.97      0.92       394\n",
      "       Coronavirus       0.34      0.25      0.29       403\n",
      "Science/Technology       0.78      0.90      0.83       393\n",
      "     Non-Political       0.82      0.76      0.79       424\n",
      "           CAA-NRC       0.51      0.42      0.47       408\n",
      "              Food       0.72      0.79      0.75       387\n",
      "\n",
      "          accuracy                           0.68      4000\n",
      "         macro avg       0.66      0.68      0.66      4000\n",
      "      weighted avg       0.66      0.68      0.66      4000\n",
      "\n"
     ]
    },
    {
     "data": {
      "text/plain": [
       "array([[147,  26,  24,  32,  10,  55,  20,  18,  27,  34],\n",
       "       [ 17, 324,   2,   5,   4,  14,   4,   5,   6,   6],\n",
       "       [  4,   2, 377,   0,   0,  10,   0,   1,  14,   4],\n",
       "       [ 42,   5,   7, 226,   4,  47,  12,   7,  32,  17],\n",
       "       [  0,   2,   2,   1, 382,   0,   0,   0,   4,   3],\n",
       "       [ 67,  15,  24,  51,  17,  99,  42,  14,  49,  25],\n",
       "       [  7,   1,   5,   6,   2,   7, 353,   0,  10,   2],\n",
       "       [ 13,  17,  11,  20,   6,  11,   2, 321,  15,   8],\n",
       "       [ 29,  11,  64,  33,   4,  32,  20,  22, 173,  20],\n",
       "       [ 16,  18,   3,  13,   7,  13,   2,   4,   6, 305]])"
      ]
     },
     "execution_count": 63,
     "metadata": {},
     "output_type": "execute_result"
    }
   ],
   "source": [
    "x_test_tf = cv.transform(test_x)\n",
    "predicted = rfc.predict(x_test_tf)\n",
    "print(\"accuracy : \", accuracy_score(test_y,predicted) )\n",
    "print(metrics.classification_report(test_y,predicted , target_names = set_flair))\n",
    "metrics.confusion_matrix(test_y , predicted)"
   ]
  },
  {
   "cell_type": "code",
   "execution_count": 64,
   "metadata": {},
   "outputs": [
    {
     "data": {
      "text/plain": [
       "<matplotlib.axes._subplots.AxesSubplot at 0x7f0bf2970bd0>"
      ]
     },
     "execution_count": 64,
     "metadata": {},
     "output_type": "execute_result"
    },
    {
     "data": {
      "image/png": "[encoded data removed]",
      "text/plain": [
       "<Figure size 720x504 with 2 Axes>"
      ]
     },
     "metadata": {},
     "output_type": "display_data"
    }
   ],
   "source": [
    "data = confusion_matrix(test_y, predicted)\n",
    "df_cm = pd.DataFrame(data, columns=np.unique(test_y), index = np.unique(test_y))\n",
    "df_cm.index.name = 'Actual'\n",
    "df_cm.columns.name = 'Predicted'\n",
    "plt.figure(figsize = (10,7))\n",
    "sn.set(font_scale=1.4)#for label size\n",
    "sn.heatmap(df_cm, cmap=\"Blues\", annot=True,annot_kws={\"size\": 16})#"
   ]
  },
  {
   "cell_type": "markdown",
   "metadata": {},
   "source": [
    "##### THE FOLLOWING GRAPHS SHOWS THE CONFUSION MATRIX OF THE ACTUAL RESULTS & PREDICTIONS"
   ]
  },
  {
   "cell_type": "code",
   "execution_count": 65,
   "metadata": {},
   "outputs": [],
   "source": [
    "Pkl_Filename = \"Pickle_RFC_Model.pkl\"  \n",
    "\n",
    "with open(Pkl_Filename, 'wb') as file:\n",
    "    pickle.dump(rfc, file)"
   ]
  },
  {
   "cell_type": "markdown",
   "metadata": {},
   "source": [
    "####  I WILL BE USING NAIVE BAYES , LINEAR SVM , RANDOM FOREST FOR PREDICTING THE OUTPUT IN THE FINAL MODEL"
   ]
  },
  {
   "cell_type": "markdown",
   "metadata": {},
   "source": [
    "#### I BUILT A HYBRID MODEL WHERE I CONSIDER THE PROBABILITY OF OUTPUT OF EACH MODEL & THE MODEL, WITH MOST PROBABILITY OR THE MODEL WHICH IS MOST CONFIDENT ABOUT THE OUTPUT . ONLY THAT MODEL'S OUPUT WOULD BE RETURED."
   ]
  },
  {
   "cell_type": "markdown",
   "metadata": {},
   "source": [
    "# LSTM LANGUAGE MODEL"
   ]
  },
  {
   "cell_type": "markdown",
   "metadata": {},
   "source": [
    "#####  INSTEAD OF MAKING MY OWN EMBEDDINGS .\n",
    "##### I PREFERED USING GLOVE EMBEDDINGS DEVELOPED BY STANFORD NLP WHICH WAS TRAINED ON MILLIONS OF DATA WHICH ENSURED A BETTER EMBEDDING."
   ]
  },
  {
   "cell_type": "code",
   "execution_count": 66,
   "metadata": {},
   "outputs": [
    {
     "name": "stdout",
     "output_type": "stream",
     "text": [
      "Loading Glove Model\n",
      "Done. 400000  words loaded!\n",
      "[-0.38497   0.80092   0.064106 -0.28355  -0.026759 -0.34532  -0.64253\n",
      " -0.11729  -0.33257   0.55243  -0.087813  0.9035    0.47102   0.56657\n",
      "  0.6985   -0.35229  -0.86542   0.90573   0.03576  -0.071705 -0.12327\n",
      "  0.54923   0.47005   0.35572   1.2611   -0.67581  -0.94983   0.68666\n",
      "  0.3871   -1.3492    0.63512   0.46416  -0.48814   0.83827  -0.9246\n",
      " -0.33722   0.53741  -1.0616   -0.081403 -0.67111   0.30923  -0.3923\n",
      " -0.55002  -0.68827   0.58049  -0.11626   0.013139 -0.57654   0.048833\n",
      "  0.67204 ]\n"
     ]
    }
   ],
   "source": [
    "file = \"/home/aaryan/Documents/Research/ELMO 1/glove.6B.50d.txt\"\n",
    "import numpy as np\n",
    "def loadGloveModel(gloveFile):\n",
    "    print (\"Loading Glove Model\")\n",
    "    \n",
    "     \n",
    "    with open(gloveFile, encoding=\"utf8\" ) as f:\n",
    "        content = f.readlines()\n",
    "    model = {}\n",
    "    for line in content:\n",
    "        splitLine = line.split()\n",
    "        word = splitLine[0]\n",
    "        embedding = np.array([float(val) for val in splitLine[1:]])\n",
    "        model[word] = embedding\n",
    "    print (\"Done.\",len(model),\" words loaded!\")\n",
    "    return model\n",
    "     \n",
    "     \n",
    "model= loadGloveModel(file)   \n",
    " \n",
    "print (model['hello'])"
   ]
  },
  {
   "cell_type": "code",
   "execution_count": 67,
   "metadata": {},
   "outputs": [
    {
     "name": "stdout",
     "output_type": "stream",
     "text": [
      "[-0.38497   0.80092   0.064106 -0.28355  -0.026759 -0.34532  -0.64253\n",
      " -0.11729  -0.33257   0.55243  -0.087813  0.9035    0.47102   0.56657\n",
      "  0.6985   -0.35229  -0.86542   0.90573   0.03576  -0.071705 -0.12327\n",
      "  0.54923   0.47005   0.35572   1.2611   -0.67581  -0.94983   0.68666\n",
      "  0.3871   -1.3492    0.63512   0.46416  -0.48814   0.83827  -0.9246\n",
      " -0.33722   0.53741  -1.0616   -0.081403 -0.67111   0.30923  -0.3923\n",
      " -0.55002  -0.68827   0.58049  -0.11626   0.013139 -0.57654   0.048833\n",
      "  0.67204 ]\n"
     ]
    }
   ],
   "source": [
    "import csv \n",
    "words = pd.read_table(file, sep=\" \", index_col=0, header=None, quoting=csv.QUOTE_NONE)\n",
    "def vec(w):\n",
    "    return words.loc[w].to_numpy()\n",
    "\n",
    " \n",
    "print (vec('hello')) "
   ]
  },
  {
   "cell_type": "code",
   "execution_count": 68,
   "metadata": {},
   "outputs": [],
   "source": [
    "#word_matrix = word.tonumpy()"
   ]
  },
  {
   "cell_type": "markdown",
   "metadata": {},
   "source": [
    "##### TO BE USED GLOVE EMBEDDING FIRST HAS TO BE CONVERTED IN A FORM OF MATRIX :GLOVE WEIGHT MATRIX . WORD EMBEDDINGS OF EACH WORD IS SAVED IN THE MATRIX ACCORDING TO THEIR INDEXES IN THE DICTIONARY"
   ]
  },
  {
   "cell_type": "code",
   "execution_count": 69,
   "metadata": {},
   "outputs": [],
   "source": [
    "matrix_len = len(word2index)\n",
    "weights_matrix = np.zeros((matrix_len , 50))\n",
    "words_found = 0\n",
    "\n",
    "for i , word in enumerate(word2index):\n",
    "    try:\n",
    "        weights_matrix[i] = words.loc[str(word)] \n",
    "        words_found += 1\n",
    "    except KeyError:\n",
    "        weights_matrix[i] = np.random.normal(scale=0.6 , size = (weights_matrix.shape[1], ))"
   ]
  },
  {
   "cell_type": "code",
   "execution_count": 70,
   "metadata": {},
   "outputs": [],
   "source": [
    "import torch\n",
    "import torch.nn as nn\n",
    "import torch.nn.functional as F\n",
    "import torch.optim as optim"
   ]
  },
  {
   "cell_type": "code",
   "execution_count": 71,
   "metadata": {},
   "outputs": [
    {
     "data": {
      "text/plain": [
       "20000"
      ]
     },
     "execution_count": 71,
     "metadata": {},
     "output_type": "execute_result"
    }
   ],
   "source": [
    "num_cases = df.shape[0]\n",
    "num_cases"
   ]
  },
  {
   "cell_type": "markdown",
   "metadata": {},
   "source": [
    "#### STANDARD DATASET OF TEXT WITH LISTS ENLISTED WITH INDEXES OF OCCURING WORDS & SIMILAR LIST FOR FLAIRS."
   ]
  },
  {
   "cell_type": "code",
   "execution_count": 72,
   "metadata": {},
   "outputs": [],
   "source": [
    "x_dataset = np.zeros((num_cases , 10) , dtype = int)\n",
    "y_dataset = np.zeros((num_cases), dtype = int)\n",
    "\n",
    "for i , sentence in enumerate((df['title'])):\n",
    "    for j , word in enumerate(sentence.split(' ')):\n",
    "        if j < 10:\n",
    "            x_dataset[i,j] = word2index[str(word)]\n",
    "        else :\n",
    "            break\n",
    "    \n",
    "for k, flair in enumerate(df['flair']):\n",
    "    y_dataset[k] = flair2index[str(flair)]      \n",
    "    "
   ]
  },
  {
   "cell_type": "code",
   "execution_count": 73,
   "metadata": {},
   "outputs": [],
   "source": [
    "x_dataset = torch.tensor(x_dataset)\n",
    "y_dataset = torch.tensor(y_dataset)"
   ]
  },
  {
   "cell_type": "code",
   "execution_count": 74,
   "metadata": {},
   "outputs": [],
   "source": [
    "x_train, x_test, y_train, y_test = train_test_split(x_dataset, y_dataset, test_size = 0.2, random_state = 0)"
   ]
  },
  {
   "cell_type": "code",
   "execution_count": 75,
   "metadata": {},
   "outputs": [],
   "source": [
    "VOCAB_SIZE = weights_matrix.shape[0]\n",
    "EMBEDDING_DIM = weights_matrix.shape[1]\n",
    "HIDDEN_LAYER = 20"
   ]
  },
  {
   "cell_type": "markdown",
   "metadata": {},
   "source": [
    "##### A LSTM LANGUAGE MODEL  BUILT IN PYTORCH FRAMEWORK . \n",
    "THE PRETRAINED GLOVE EMBEDDING WERE PASSED INTO THE MODEL IN THE FORM OF WEIGHT_MATRIX OR GLOVE WEIGHTS.\n",
    "I HAD SOME PRE KNOWLEDGE THAT LSTM LANGUAGE MODELS WORKS BETTER ON TEXT AS COMPARED TO ML MODELS.\n",
    "I USED RELU , SOFTMAX AS THE ACTIVATION LAYERS."
   ]
  },
  {
   "cell_type": "code",
   "execution_count": 76,
   "metadata": {},
   "outputs": [],
   "source": [
    "class LSTM_glove_vecs(torch.nn.Module) :\n",
    "    def __init__(self, vocab_size, embedding_dim, hidden_dim, glove_weights) :\n",
    "        super().__init__()\n",
    "        self.embeddings = nn.Embedding(vocab_size, embedding_dim, padding_idx=0)\n",
    "        self.embeddings.weight.data.copy_(torch.from_numpy(glove_weights))\n",
    "        self.embeddings.weight.requires_grad = False #eze embeddings\n",
    "        self.lstm = nn.LSTM(embedding_dim, hidden_dim, batch_first=True)\n",
    "        self.relu = nn.ReLU()\n",
    "        self.linear = nn.Linear(hidden_dim, hidden_dim)\n",
    "        self.linear1 = nn.Linear(hidden_dim ,10)\n",
    "        self.softmax = nn.Softmax()\n",
    "        self.dropout = nn.Dropout(0.35)\n",
    "        \n",
    "    def forward(self, x):\n",
    "        x = self.embeddings(x)\n",
    "        x = self.dropout(x)\n",
    "        lstm_out, (ht, ct) = self.lstm(x)\n",
    "        output = self.linear(ht[-1])\n",
    "        output = self.relu(output)\n",
    "        output = self.linear1(output)\n",
    "        output = self.softmax(output)\n",
    "        \n",
    "        return output"
   ]
  },
  {
   "cell_type": "markdown",
   "metadata": {},
   "source": [
    "##### I USED ADAM OPTIMIZER TO BACK PROPOGATE & OPTIMIZE MY MODEL. I PREFERED ADAM BECAUSE IT IS MORE SENSETIVE TOWARDS THE HYPER PARAMETERS COMPARED TO SGD OPTIMIZERS. THE VALUES OF HYPERMATERS AFFECT OUR MODEL A LOT AS A LOT OF PROCESSING NEEDS TO BE DONE ."
   ]
  },
  {
   "cell_type": "code",
   "execution_count": 77,
   "metadata": {},
   "outputs": [],
   "source": [
    "model = LSTM_glove_vecs(VOCAB_SIZE , EMBEDDING_DIM , HIDDEN_LAYER , weights_matrix)\n",
    "optimizer = optim.Adam(model.parameters(), lr=0.1)"
   ]
  },
  {
   "cell_type": "code",
   "execution_count": 78,
   "metadata": {},
   "outputs": [
    {
     "name": "stderr",
     "output_type": "stream",
     "text": [
      "/home/aaryan/.local/lib/python3.7/site-packages/ipykernel_launcher.py:1: UserWarning:\n",
      "\n",
      "To copy construct from a tensor, it is recommended to use sourceTensor.clone().detach() or sourceTensor.clone().detach().requires_grad_(True), rather than torch.tensor(sourceTensor).\n",
      "\n"
     ]
    }
   ],
   "source": [
    "x_train = torch.tensor(x_train)"
   ]
  },
  {
   "cell_type": "code",
   "execution_count": 79,
   "metadata": {},
   "outputs": [
    {
     "name": "stderr",
     "output_type": "stream",
     "text": [
      "/home/aaryan/.local/lib/python3.7/site-packages/ipykernel_launcher.py:21: UserWarning:\n",
      "\n",
      "Implicit dimension choice for softmax has been deprecated. Change the call to include dim=X as an argument.\n",
      "\n"
     ]
    }
   ],
   "source": [
    "softmax_prob = model(x_train)"
   ]
  },
  {
   "cell_type": "markdown",
   "metadata": {},
   "source": [
    "Cross Entropy loss minimizes the distance between the probability distributions therefore it is prefered for classification problems."
   ]
  },
  {
   "cell_type": "code",
   "execution_count": 80,
   "metadata": {},
   "outputs": [],
   "source": [
    "loss_function = torch.nn.CrossEntropyLoss()\n",
    "total_loss = 0\n",
    "losses =[]\n",
    "epochs = 1\n",
    "print_every = 1000"
   ]
  },
  {
   "cell_type": "markdown",
   "metadata": {},
   "source": [
    "### TRAINING"
   ]
  },
  {
   "cell_type": "markdown",
   "metadata": {},
   "source": [
    "##### THE MODEL TRAINS A BATCH OF VALUES AT A TIME. IN THIS SPECIFIC CASE , THE SIZE OF BATCH IS DECIDED AS 100"
   ]
  },
  {
   "cell_type": "code",
   "execution_count": 81,
   "metadata": {},
   "outputs": [
    {
     "name": "stderr",
     "output_type": "stream",
     "text": [
      "/home/aaryan/.local/lib/python3.7/site-packages/ipykernel_launcher.py:21: UserWarning:\n",
      "\n",
      "Implicit dimension choice for softmax has been deprecated. Change the call to include dim=X as an argument.\n",
      "\n"
     ]
    },
    {
     "name": "stdout",
     "output_type": "stream",
     "text": [
      "2.2912039756774902 for 1000\n",
      "2.300973415374756 for 2000\n",
      "2.341150999069214 for 3000\n",
      "2.291171073913574 for 4000\n",
      "2.3111510276794434 for 5000\n",
      "2.331151008605957 for 6000\n",
      "2.4111509323120117 for 7000\n",
      "2.341150999069214 for 8000\n",
      "2.3111510276794434 for 9000\n",
      "2.3111510276794434 for 10000\n",
      "2.2910964488983154 for 11000\n",
      "2.341150999069214 for 12000\n",
      "2.331151008605957 for 13000\n",
      "2.4111509323120117 for 14000\n",
      "2.3611509799957275 for 15000\n",
      "2.3211510181427 for 16000\n"
     ]
    }
   ],
   "source": [
    "i = 0\n",
    "x_train_data = np.zeros((100,50), dtype = int)\n",
    "y_train_data = np.zeros(100,dtype = int)\n",
    "for epoch in range(epochs):\n",
    "    for i in range(x_train.shape[0]):\n",
    "        y_train_data = y_train[i:i+100 ]\n",
    "        x_train_data = x_train[i:i+100, :]\n",
    "        i= i+100\n",
    "        model.zero_grad()\n",
    "        y_pred = model(x_train_data)\n",
    "        loss = loss_function(y_pred, y_train_data)\n",
    "        loss.backward()\n",
    "        optimizer.step()\n",
    "        total_loss =+ loss.item()\n",
    "        if i% print_every == 0:\n",
    "            print(str(loss.item()) + ' for ' + str(i))"
   ]
  },
  {
   "cell_type": "markdown",
   "metadata": {},
   "source": [
    "##### THE LOSS RATES DIDN'T IMPROVE MUCH\n",
    "THE POSSIBLE REASONS CAN BE THE SHORTAGE OF DATA.\n",
    "THERE MAY BE AN ISSUE WITH PARAMETERS.\n",
    "I TRIED BOTH APPLYING GRADIENTS ON THE EMBEDDINGS AND FREEZING THEM BUT THE RESULTS WERE NOT SATISFACTORY."
   ]
  },
  {
   "cell_type": "markdown",
   "metadata": {},
   "source": [
    "#### ACCURACY OF THE MODEL"
   ]
  },
  {
   "cell_type": "code",
   "execution_count": 82,
   "metadata": {},
   "outputs": [
    {
     "name": "stderr",
     "output_type": "stream",
     "text": [
      "/home/aaryan/.local/lib/python3.7/site-packages/ipykernel_launcher.py:21: UserWarning:\n",
      "\n",
      "Implicit dimension choice for softmax has been deprecated. Change the call to include dim=X as an argument.\n",
      "\n"
     ]
    },
    {
     "name": "stdout",
     "output_type": "stream",
     "text": [
      "0.09 for 500\n",
      "0.11 for 1000\n",
      "0.09 for 1500\n",
      "0.08 for 2000\n",
      "0.14 for 2500\n",
      "0.12 for 3000\n",
      "0.14 for 3500\n",
      "0.12 for 4000\n"
     ]
    }
   ],
   "source": [
    "i = 0\n",
    "accuracies = list()\n",
    "x_test_data = np.zeros((100,50), dtype = int)\n",
    "y_test_data = np.zeros(100,dtype = int)\n",
    "\n",
    "for i in range(x_test.shape[0]):\n",
    "    x_test_data = x_test[i:i+100,:]\n",
    "    y_test_data = y_test[i:i+100]\n",
    "\n",
    "    i = i + 100\n",
    "\n",
    "    predictions, actuals,  = list(), list() \n",
    "    y_pred = model(x_test_data)\n",
    "    y_pred = y_pred.detach().numpy()\n",
    "    actual = y_test_data.numpy()\n",
    "    y_pred = y_pred.round()\n",
    "    predictions.append(y_pred)\n",
    "    actuals.append(actual)\n",
    "    predictions = np.array(predictions)\n",
    "\n",
    "    actuals = np.array(actuals)\n",
    "    b = np.zeros((actuals.size , 10))\n",
    "    b[np.arange(actuals.size),actuals] = 1\n",
    "\n",
    "    predictions_, actuals_ = np.vstack(predictions), np.vstack(b)\n",
    "    acc = accuracy_score(actuals_, predictions_)\n",
    "    acc=acc.astype(float)\n",
    "    accuracies.append(acc)\n",
    "    \n",
    "    if i % 500 == 0:\n",
    "        print(str(acc) + ' for ' + str(i))"
   ]
  },
  {
   "cell_type": "code",
   "execution_count": 83,
   "metadata": {},
   "outputs": [],
   "source": [
    "accuracies = np.array(accuracies)"
   ]
  },
  {
   "cell_type": "code",
   "execution_count": 84,
   "metadata": {},
   "outputs": [
    {
     "data": {
      "text/plain": [
       "0.11160216537549333"
      ]
     },
     "execution_count": 84,
     "metadata": {},
     "output_type": "execute_result"
    }
   ],
   "source": [
    "accuracies.mean()"
   ]
  },
  {
   "cell_type": "markdown",
   "metadata": {},
   "source": [
    "##### THE ACCURACY OF THE LSTM LANGUAGE MODEL WAS FOUND TO BE REALLY LOW.\n",
    "AT LATER STAGES I REALISED THAT MY DATA WAS BIASED AND IT COULD BE A POSSIBLE REASON FOR THIS BUT IT DIDN'T IMPROVE EVEN AFTER BALANCING IT.\n",
    "I ANALYSED IT AGAIN. I THOUGHT OF TWEAKING THE MODEL BY CHANGING THE OPTIMIZERS , LOSS FUNTIONS , SIZE OF HIDDEN LAYERS , BATCH SIZE , EPOCHS , LRs & EVEN DROPOUT RATES BUT I COULDN'T SEE MUCH DIFFERENCE IN THE RESULTS.\n",
    "I BELIEVE THAT THE SIZE OF MY DATA WAS REALLY LOW COMPARED TO THE REQUIREMENTS AS SUCH NLP MODELS REQUIRE A LOTS OF TUNING .\n",
    "ALSO ,A WILD GUESS CAN BE THAT I DID SOME ERROR WHILE USING GLOVE EMBEDDINGS."
   ]
  }
 ],
 "metadata": {
  "kernelspec": {
   "display_name": "Python 3",
   "language": "python",
   "name": "python3"
  },
  "language_info": {
   "codemirror_mode": {
    "name": "ipython",
    "version": 3
   },
   "file_extension": ".py",
   "mimetype": "text/x-python",
   "name": "python",
   "nbconvert_exporter": "python",
   "pygments_lexer": "ipython3",
   "version": "3.7.5"
  }
 },
 "nbformat": 4,
 "nbformat_minor": 4
}
